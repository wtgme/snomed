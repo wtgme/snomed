{
 "cells": [
  {
   "cell_type": "code",
   "execution_count": 1,
   "id": "23b6d6f2",
   "metadata": {},
   "outputs": [],
   "source": [
    "import pandas as pd"
   ]
  },
  {
   "cell_type": "markdown",
   "id": "65ff5e5e",
   "metadata": {},
   "source": [
    "## Load n2c2 data"
   ]
  },
  {
   "cell_type": "code",
   "execution_count": null,
   "id": "40b7508f",
   "metadata": {},
   "outputs": [],
   "source": [
    "path = ''"
   ]
  }
 ],
 "metadata": {
  "kernelspec": {
   "display_name": "Python 3",
   "language": "python",
   "name": "python3"
  },
  "language_info": {
   "codemirror_mode": {
    "name": "ipython",
    "version": 3
   },
   "file_extension": ".py",
   "mimetype": "text/x-python",
   "name": "python",
   "nbconvert_exporter": "python",
   "pygments_lexer": "ipython3",
   "version": "3.8.8"
  }
 },
 "nbformat": 4,
 "nbformat_minor": 5
}
