{
 "cells": [
  {
   "cell_type": "code",
   "execution_count": 1,
   "metadata": {},
   "outputs": [],
   "source": [
    "# !pip install py2neo==4.3.0"
   ]
  },
  {
   "cell_type": "code",
   "execution_count": 40,
   "metadata": {},
   "outputs": [],
   "source": [
    "# !pip install neo4j"
   ]
  },
  {
   "cell_type": "code",
   "execution_count": 4,
   "metadata": {},
   "outputs": [],
   "source": [
    "import pandas as pd\n",
    "import sqlalchemy as sql\n",
    "# from py2neo import Node, Relationship, Graph, Subgraph\n",
    "import numpy as np\n",
    "# from neo4j import GraphDatabase"
   ]
  },
  {
   "cell_type": "markdown",
   "metadata": {},
   "source": [
    "## Concepts"
   ]
  },
  {
   "cell_type": "code",
   "execution_count": null,
   "metadata": {},
   "outputs": [],
   "source": [
    "rm -rf data/databases/*"
   ]
  },
  {
   "cell_type": "code",
   "execution_count": null,
   "metadata": {},
   "outputs": [],
   "source": [
    "cypher-shell"
   ]
  },
  {
   "cell_type": "code",
   "execution_count": null,
   "metadata": {},
   "outputs": [],
   "source": [
    "bin/neo4j-admin import\n",
    "--nodes:Semantic /import/TUIs.csv\n",
    "--nodes:Concept /import/CUIs.csv\n",
    "--nodes:Code /import/CODEs.csv\n",
    "--nodes:Term /import/SUIs.csv\n",
    "--nodes:Definition /import/DEFs.csv\n",
    "--relationships:ISA_STY /import/TUIrel.csv\n",
    "--relationships:STY /import/CUI-TUIs.csv\n",
    "--relationships /import/CUI-CUIs.csv\n",
    "--relationships:CODE /import/CUI-CODEs.csv\n",
    "--relationships /import/CODE-SUIs.csv\n",
    "--relationships:PREF_TERM /import/CUI-SUIs.csv\n",
    "--relationships:DEF /import/DEFrel.csv\n",
    "--skip-duplicate-nodes\n",
    "--skip-bad-relationships"
   ]
  },
  {
   "cell_type": "code",
   "execution_count": null,
   "metadata": {},
   "outputs": [],
   "source": [
    "CALL db.index.fulltext.createNodeIndex(\"Term_name\",[\"Term\"],[\"name\"]);"
   ]
  },
  {
   "cell_type": "markdown",
   "metadata": {},
   "source": [
    "## Semantic"
   ]
  },
  {
   "cell_type": "code",
   "execution_count": 13,
   "metadata": {},
   "outputs": [
    {
     "data": {
      "text/html": [
       "<div>\n",
       "<style scoped>\n",
       "    .dataframe tbody tr th:only-of-type {\n",
       "        vertical-align: middle;\n",
       "    }\n",
       "\n",
       "    .dataframe tbody tr th {\n",
       "        vertical-align: top;\n",
       "    }\n",
       "\n",
       "    .dataframe thead th {\n",
       "        text-align: right;\n",
       "    }\n",
       "</style>\n",
       "<table border=\"1\" class=\"dataframe\">\n",
       "  <thead>\n",
       "    <tr style=\"text-align: right;\">\n",
       "      <th></th>\n",
       "      <th>TUI</th>\n",
       "      <th>name</th>\n",
       "      <th>STN</th>\n",
       "      <th>DEF</th>\n",
       "    </tr>\n",
       "  </thead>\n",
       "  <tbody>\n",
       "    <tr>\n",
       "      <th>0</th>\n",
       "      <td>T001</td>\n",
       "      <td>Organism</td>\n",
       "      <td>A1.1</td>\n",
       "      <td>Generally, a living individual, including all ...</td>\n",
       "    </tr>\n",
       "    <tr>\n",
       "      <th>1</th>\n",
       "      <td>T002</td>\n",
       "      <td>Plant</td>\n",
       "      <td>A1.1.3.3</td>\n",
       "      <td>An organism having cellulose cell walls, growi...</td>\n",
       "    </tr>\n",
       "    <tr>\n",
       "      <th>2</th>\n",
       "      <td>T004</td>\n",
       "      <td>Fungus</td>\n",
       "      <td>A1.1.3.2</td>\n",
       "      <td>A eukaryotic organism characterized by the abs...</td>\n",
       "    </tr>\n",
       "    <tr>\n",
       "      <th>3</th>\n",
       "      <td>T005</td>\n",
       "      <td>Virus</td>\n",
       "      <td>A1.1.4</td>\n",
       "      <td>An organism consisting of a core of a single n...</td>\n",
       "    </tr>\n",
       "    <tr>\n",
       "      <th>4</th>\n",
       "      <td>T007</td>\n",
       "      <td>Bacterium</td>\n",
       "      <td>A1.1.2</td>\n",
       "      <td>A small, typically one-celled, prokaryotic mic...</td>\n",
       "    </tr>\n",
       "  </tbody>\n",
       "</table>\n",
       "</div>"
      ],
      "text/plain": [
       "    TUI       name       STN  \\\n",
       "0  T001   Organism      A1.1   \n",
       "1  T002      Plant  A1.1.3.3   \n",
       "2  T004     Fungus  A1.1.3.2   \n",
       "3  T005      Virus    A1.1.4   \n",
       "4  T007  Bacterium    A1.1.2   \n",
       "\n",
       "                                                 DEF  \n",
       "0  Generally, a living individual, including all ...  \n",
       "1  An organism having cellulose cell walls, growi...  \n",
       "2  A eukaryotic organism characterized by the abs...  \n",
       "3  An organism consisting of a core of a single n...  \n",
       "4  A small, typically one-celled, prokaryotic mic...  "
      ]
     },
     "execution_count": 13,
     "metadata": {},
     "output_type": "execute_result"
    }
   ],
   "source": [
    "con = pd.read_csv('data/UMLS-Graph-Extracts/TUIs.csv')\n",
    "con.head()"
   ]
  },
  {
   "cell_type": "code",
   "execution_count": null,
   "metadata": {},
   "outputs": [],
   "source": [
    "CREATE CONSTRAINT ON (n:Semantic) ASSERT n.TUI IS UNIQUE;\n",
    "CREATE CONSTRAINT ON (n:Semantic) ASSERT n.STN IS UNIQUE;\n",
    "CREATE CONSTRAINT ON (n:Semantic) ASSERT n.DEF IS UNIQUE;\n",
    "CREATE CONSTRAINT ON (n:Semantic) ASSERT n.name IS UNIQUE;"
   ]
  },
  {
   "cell_type": "code",
   "execution_count": null,
   "metadata": {},
   "outputs": [],
   "source": [
    "USING PERIODIC COMMIT 500\n",
    "LOAD csv with headers from \"file:///TUIs.csv\" as line\n",
    "FIELDTERMINATOR '\\t'\n",
    "with line\n",
    "MERGE (:Semantic\n",
    "        { TUI: line.TUI, name: line.name, STN: line.STN, DEF: line.DEF} );\n"
   ]
  },
  {
   "cell_type": "markdown",
   "metadata": {},
   "source": [
    "## Concept"
   ]
  },
  {
   "cell_type": "code",
   "execution_count": 12,
   "metadata": {},
   "outputs": [
    {
     "data": {
      "text/html": [
       "<div>\n",
       "<style scoped>\n",
       "    .dataframe tbody tr th:only-of-type {\n",
       "        vertical-align: middle;\n",
       "    }\n",
       "\n",
       "    .dataframe tbody tr th {\n",
       "        vertical-align: top;\n",
       "    }\n",
       "\n",
       "    .dataframe thead th {\n",
       "        text-align: right;\n",
       "    }\n",
       "</style>\n",
       "<table border=\"1\" class=\"dataframe\">\n",
       "  <thead>\n",
       "    <tr style=\"text-align: right;\">\n",
       "      <th></th>\n",
       "      <th>CUI</th>\n",
       "    </tr>\n",
       "  </thead>\n",
       "  <tbody>\n",
       "    <tr>\n",
       "      <th>0</th>\n",
       "      <td>C0000005</td>\n",
       "    </tr>\n",
       "    <tr>\n",
       "      <th>1</th>\n",
       "      <td>C0000039</td>\n",
       "    </tr>\n",
       "    <tr>\n",
       "      <th>2</th>\n",
       "      <td>C0000052</td>\n",
       "    </tr>\n",
       "    <tr>\n",
       "      <th>3</th>\n",
       "      <td>C0000074</td>\n",
       "    </tr>\n",
       "    <tr>\n",
       "      <th>4</th>\n",
       "      <td>C0000084</td>\n",
       "    </tr>\n",
       "  </tbody>\n",
       "</table>\n",
       "</div>"
      ],
      "text/plain": [
       "        CUI\n",
       "0  C0000005\n",
       "1  C0000039\n",
       "2  C0000052\n",
       "3  C0000074\n",
       "4  C0000084"
      ]
     },
     "execution_count": 12,
     "metadata": {},
     "output_type": "execute_result"
    }
   ],
   "source": [
    "con = pd.read_csv('data/UMLS-Graph-Extracts/CUIs.csv')\n",
    "con.head()"
   ]
  },
  {
   "cell_type": "code",
   "execution_count": null,
   "metadata": {},
   "outputs": [],
   "source": [
    "CREATE CONSTRAINT ON (n:Concept) ASSERT n.CUI IS UNIQUE;"
   ]
  },
  {
   "cell_type": "code",
   "execution_count": null,
   "metadata": {},
   "outputs": [],
   "source": [
    "USING PERIODIC COMMIT 500\n",
    "LOAD csv with headers from \"file:///CUIs.csv\" as line\n",
    "with line\n",
    "MERGE (:Concept\n",
    "        { CUI: line.CUI} );\n"
   ]
  },
  {
   "cell_type": "markdown",
   "metadata": {},
   "source": [
    "## Code"
   ]
  },
  {
   "cell_type": "code",
   "execution_count": null,
   "metadata": {},
   "outputs": [],
   "source": [
    "CREATE CONSTRAINT ON (n:Code) ASSERT n.CodeID IS UNIQUE;\n",
    "CREATE INDEX ON :Code(SAB); \n",
    "CREATE INDEX ON :Code(CODE); "
   ]
  },
  {
   "cell_type": "code",
   "execution_count": 4,
   "metadata": {},
   "outputs": [
    {
     "data": {
      "text/html": [
       "<div>\n",
       "<style scoped>\n",
       "    .dataframe tbody tr th:only-of-type {\n",
       "        vertical-align: middle;\n",
       "    }\n",
       "\n",
       "    .dataframe tbody tr th {\n",
       "        vertical-align: top;\n",
       "    }\n",
       "\n",
       "    .dataframe thead th {\n",
       "        text-align: right;\n",
       "    }\n",
       "</style>\n",
       "<table border=\"1\" class=\"dataframe\">\n",
       "  <thead>\n",
       "    <tr style=\"text-align: right;\">\n",
       "      <th></th>\n",
       "      <th>SAB</th>\n",
       "      <th>CODE</th>\n",
       "      <th>CodeID</th>\n",
       "    </tr>\n",
       "  </thead>\n",
       "  <tbody>\n",
       "    <tr>\n",
       "      <th>0</th>\n",
       "      <td>MSH</td>\n",
       "      <td>D012711</td>\n",
       "      <td>MSH D012711</td>\n",
       "    </tr>\n",
       "    <tr>\n",
       "      <th>1</th>\n",
       "      <td>MSH</td>\n",
       "      <td>D015060</td>\n",
       "      <td>MSH D015060</td>\n",
       "    </tr>\n",
       "    <tr>\n",
       "      <th>2</th>\n",
       "      <td>LNC</td>\n",
       "      <td>LP15542-1</td>\n",
       "      <td>LNC LP15542-1</td>\n",
       "    </tr>\n",
       "    <tr>\n",
       "      <th>3</th>\n",
       "      <td>LNC</td>\n",
       "      <td>MTHU010538</td>\n",
       "      <td>LNC MTHU010538</td>\n",
       "    </tr>\n",
       "    <tr>\n",
       "      <th>4</th>\n",
       "      <td>RXNORM</td>\n",
       "      <td>1926948</td>\n",
       "      <td>RXNORM 1926948</td>\n",
       "    </tr>\n",
       "  </tbody>\n",
       "</table>\n",
       "</div>"
      ],
      "text/plain": [
       "      SAB        CODE          CodeID\n",
       "0     MSH     D012711     MSH D012711\n",
       "1     MSH     D015060     MSH D015060\n",
       "2     LNC   LP15542-1   LNC LP15542-1\n",
       "3     LNC  MTHU010538  LNC MTHU010538\n",
       "4  RXNORM     1926948  RXNORM 1926948"
      ]
     },
     "execution_count": 4,
     "metadata": {},
     "output_type": "execute_result"
    }
   ],
   "source": [
    "con = pd.read_csv('data/UMLS-Graph-Extracts/CODEs.csv', sep='\\t')\n",
    "con.head()"
   ]
  },
  {
   "cell_type": "code",
   "execution_count": null,
   "metadata": {},
   "outputs": [],
   "source": [
    "USING PERIODIC COMMIT 500\n",
    "LOAD csv with headers from \"file:///CODEs.csv\" as line\n",
    "FIELDTERMINATOR '\\t'\n",
    "with line\n",
    "CREATE (:Code\n",
    "        { CodeID: line.CodeID, SAB: line.SAB, CODE: line.CODE} );"
   ]
  },
  {
   "cell_type": "code",
   "execution_count": null,
   "metadata": {},
   "outputs": [],
   "source": [
    "nodes:Code /import/CODEs.csv"
   ]
  },
  {
   "cell_type": "markdown",
   "metadata": {},
   "source": [
    "## Term"
   ]
  },
  {
   "cell_type": "code",
   "execution_count": 5,
   "metadata": {},
   "outputs": [
    {
     "data": {
      "text/html": [
       "<div>\n",
       "<style scoped>\n",
       "    .dataframe tbody tr th:only-of-type {\n",
       "        vertical-align: middle;\n",
       "    }\n",
       "\n",
       "    .dataframe tbody tr th {\n",
       "        vertical-align: top;\n",
       "    }\n",
       "\n",
       "    .dataframe thead th {\n",
       "        text-align: right;\n",
       "    }\n",
       "</style>\n",
       "<table border=\"1\" class=\"dataframe\">\n",
       "  <thead>\n",
       "    <tr style=\"text-align: right;\">\n",
       "      <th></th>\n",
       "      <th>SUI</th>\n",
       "      <th>name</th>\n",
       "    </tr>\n",
       "  </thead>\n",
       "  <tbody>\n",
       "    <tr>\n",
       "      <th>0</th>\n",
       "      <td>S0000001</td>\n",
       "      <td>Mild mental retardation</td>\n",
       "    </tr>\n",
       "    <tr>\n",
       "      <th>1</th>\n",
       "      <td>S0000002</td>\n",
       "      <td>Moderate mental retardation</td>\n",
       "    </tr>\n",
       "    <tr>\n",
       "      <th>2</th>\n",
       "      <td>S0000003</td>\n",
       "      <td>Severe mental retardation</td>\n",
       "    </tr>\n",
       "    <tr>\n",
       "      <th>3</th>\n",
       "      <td>S0000004</td>\n",
       "      <td>Profound mental retardation</td>\n",
       "    </tr>\n",
       "    <tr>\n",
       "      <th>4</th>\n",
       "      <td>S0000005</td>\n",
       "      <td>Unspecified mental retardation</td>\n",
       "    </tr>\n",
       "  </tbody>\n",
       "</table>\n",
       "</div>"
      ],
      "text/plain": [
       "        SUI                            name\n",
       "0  S0000001         Mild mental retardation\n",
       "1  S0000002     Moderate mental retardation\n",
       "2  S0000003       Severe mental retardation\n",
       "3  S0000004     Profound mental retardation\n",
       "4  S0000005  Unspecified mental retardation"
      ]
     },
     "execution_count": 5,
     "metadata": {},
     "output_type": "execute_result"
    }
   ],
   "source": [
    "con = pd.read_csv('data/UMLS-Graph-Extracts/SUIs.csv', sep='\\t')\n",
    "con.head()"
   ]
  },
  {
   "cell_type": "code",
   "execution_count": 7,
   "metadata": {},
   "outputs": [],
   "source": [
    "con = con[con['name'].isna()==False]"
   ]
  },
  {
   "cell_type": "code",
   "execution_count": 18,
   "metadata": {},
   "outputs": [],
   "source": [
    "con['name'] = con['name'].str.replace('\"','')"
   ]
  },
  {
   "cell_type": "code",
   "execution_count": 8,
   "metadata": {},
   "outputs": [],
   "source": [
    "con.to_csv(path_or_buf='data/UMLS-Graph-Extracts/SUIs.csv', header=True, index=False, sep='\\t')"
   ]
  },
  {
   "cell_type": "code",
   "execution_count": null,
   "metadata": {},
   "outputs": [],
   "source": [
    "CREATE CONSTRAINT ON (n:Term) ASSERT n.SUI IS UNIQUE;\n",
    "CREATE INDEX ON :Term(name); "
   ]
  },
  {
   "cell_type": "code",
   "execution_count": null,
   "metadata": {},
   "outputs": [],
   "source": [
    "# MATCH (n:Term)\n",
    "# DELETE n;"
   ]
  },
  {
   "cell_type": "code",
   "execution_count": null,
   "metadata": {},
   "outputs": [],
   "source": [
    "USING PERIODIC COMMIT 500\n",
    "LOAD csv with headers from \"file:///SUIs.csv\" as line\n",
    "FIELDTERMINATOR '\\t'\n",
    "with line\n",
    "MERGE (:Term{ SUI: line.SUI, name: line.name} );"
   ]
  },
  {
   "cell_type": "code",
   "execution_count": null,
   "metadata": {},
   "outputs": [],
   "source": [
    "nodes:Term /import/SUIs.csv"
   ]
  },
  {
   "cell_type": "markdown",
   "metadata": {},
   "source": [
    "## Definition"
   ]
  },
  {
   "cell_type": "code",
   "execution_count": 22,
   "metadata": {},
   "outputs": [
    {
     "data": {
      "text/html": [
       "<div>\n",
       "<style scoped>\n",
       "    .dataframe tbody tr th:only-of-type {\n",
       "        vertical-align: middle;\n",
       "    }\n",
       "\n",
       "    .dataframe tbody tr th {\n",
       "        vertical-align: top;\n",
       "    }\n",
       "\n",
       "    .dataframe thead th {\n",
       "        text-align: right;\n",
       "    }\n",
       "</style>\n",
       "<table border=\"1\" class=\"dataframe\">\n",
       "  <thead>\n",
       "    <tr style=\"text-align: right;\">\n",
       "      <th></th>\n",
       "      <th>ATUI</th>\n",
       "      <th>SAB</th>\n",
       "      <th>DEF</th>\n",
       "    </tr>\n",
       "  </thead>\n",
       "  <tbody>\n",
       "    <tr>\n",
       "      <th>0</th>\n",
       "      <td>AT100258389</td>\n",
       "      <td>MSH</td>\n",
       "      <td>Areas set apart as burial grounds.</td>\n",
       "    </tr>\n",
       "    <tr>\n",
       "      <th>1</th>\n",
       "      <td>AT100258390</td>\n",
       "      <td>MSH</td>\n",
       "      <td>A non-metal element that has the atomic symbol...</td>\n",
       "    </tr>\n",
       "    <tr>\n",
       "      <th>2</th>\n",
       "      <td>AT100258391</td>\n",
       "      <td>MSH</td>\n",
       "      <td>A genus of ectomycorrhizae basidiomycetous fun...</td>\n",
       "    </tr>\n",
       "    <tr>\n",
       "      <th>3</th>\n",
       "      <td>AT100258392</td>\n",
       "      <td>MSH</td>\n",
       "      <td>A republic in southern Africa, south of TANZAN...</td>\n",
       "    </tr>\n",
       "    <tr>\n",
       "      <th>4</th>\n",
       "      <td>AT100258393</td>\n",
       "      <td>MSH</td>\n",
       "      <td>The flow of ions into or out of cells that cau...</td>\n",
       "    </tr>\n",
       "  </tbody>\n",
       "</table>\n",
       "</div>"
      ],
      "text/plain": [
       "          ATUI  SAB                                                DEF\n",
       "0  AT100258389  MSH                 Areas set apart as burial grounds.\n",
       "1  AT100258390  MSH  A non-metal element that has the atomic symbol...\n",
       "2  AT100258391  MSH  A genus of ectomycorrhizae basidiomycetous fun...\n",
       "3  AT100258392  MSH  A republic in southern Africa, south of TANZAN...\n",
       "4  AT100258393  MSH  The flow of ions into or out of cells that cau..."
      ]
     },
     "execution_count": 22,
     "metadata": {},
     "output_type": "execute_result"
    }
   ],
   "source": [
    "con = pd.read_csv('data/UMLS-Graph-Extracts/DEFs.csv', sep='\\t')\n",
    "con.head()"
   ]
  },
  {
   "cell_type": "code",
   "execution_count": 23,
   "metadata": {},
   "outputs": [],
   "source": [
    "con['DEF'] = con['DEF'].str.replace('\"','')"
   ]
  },
  {
   "cell_type": "code",
   "execution_count": 24,
   "metadata": {},
   "outputs": [],
   "source": [
    "con.to_csv(path_or_buf='data/UMLS-Graph-Extracts/DEFs.csv', header=True, index=False, sep='\\t')"
   ]
  },
  {
   "cell_type": "code",
   "execution_count": 2,
   "metadata": {},
   "outputs": [],
   "source": [
    "DROP INDEX ON :Definition(DEF); \n",
    "CREATE INDEX ON :Definition(DEF); "
   ]
  },
  {
   "cell_type": "code",
   "execution_count": null,
   "metadata": {},
   "outputs": [],
   "source": [
    "CREATE CONSTRAINT ON (n:Definition) ASSERT n.ATUI IS UNIQUE;\n",
    "CREATE INDEX ON :Definition(SAB); \n"
   ]
  },
  {
   "cell_type": "code",
   "execution_count": null,
   "metadata": {},
   "outputs": [],
   "source": [
    "USING PERIODIC COMMIT 500\n",
    "LOAD csv with headers from \"file:///DEFs.csv\" as line\n",
    "FIELDTERMINATOR '\\t'\n",
    "with line\n",
    "MERGE (:Definition\n",
    "        { ATUI: line.ATUI, SAB: line.SAB, DEF: line.DEF} );"
   ]
  },
  {
   "cell_type": "code",
   "execution_count": null,
   "metadata": {},
   "outputs": [],
   "source": []
  },
  {
   "cell_type": "markdown",
   "metadata": {},
   "source": [
    "## ISA_STY"
   ]
  },
  {
   "cell_type": "code",
   "execution_count": 3,
   "metadata": {},
   "outputs": [
    {
     "data": {
      "text/html": [
       "<div>\n",
       "<style scoped>\n",
       "    .dataframe tbody tr th:only-of-type {\n",
       "        vertical-align: middle;\n",
       "    }\n",
       "\n",
       "    .dataframe tbody tr th {\n",
       "        vertical-align: top;\n",
       "    }\n",
       "\n",
       "    .dataframe thead th {\n",
       "        text-align: right;\n",
       "    }\n",
       "</style>\n",
       "<table border=\"1\" class=\"dataframe\">\n",
       "  <thead>\n",
       "    <tr style=\"text-align: right;\">\n",
       "      <th></th>\n",
       "      <th>END_ID</th>\n",
       "      <th>START_ID</th>\n",
       "    </tr>\n",
       "  </thead>\n",
       "  <tbody>\n",
       "    <tr>\n",
       "      <th>0</th>\n",
       "      <td>T071</td>\n",
       "      <td>T001</td>\n",
       "    </tr>\n",
       "    <tr>\n",
       "      <th>1</th>\n",
       "      <td>T072</td>\n",
       "      <td>T001</td>\n",
       "    </tr>\n",
       "    <tr>\n",
       "      <th>2</th>\n",
       "      <td>T001</td>\n",
       "      <td>T002</td>\n",
       "    </tr>\n",
       "    <tr>\n",
       "      <th>3</th>\n",
       "      <td>T071</td>\n",
       "      <td>T002</td>\n",
       "    </tr>\n",
       "    <tr>\n",
       "      <th>4</th>\n",
       "      <td>T072</td>\n",
       "      <td>T002</td>\n",
       "    </tr>\n",
       "  </tbody>\n",
       "</table>\n",
       "</div>"
      ],
      "text/plain": [
       "  END_ID START_ID\n",
       "0   T071     T001\n",
       "1   T072     T001\n",
       "2   T001     T002\n",
       "3   T071     T002\n",
       "4   T072     T002"
      ]
     },
     "execution_count": 3,
     "metadata": {},
     "output_type": "execute_result"
    }
   ],
   "source": [
    "con = pd.read_csv('data/UMLS-Graph-Extracts/TUIrel.csv', sep='\\t')\n",
    "con.head()"
   ]
  },
  {
   "cell_type": "code",
   "execution_count": null,
   "metadata": {},
   "outputs": [],
   "source": [
    "--relationships:ISA_STY /import/TUIrel.csv"
   ]
  },
  {
   "cell_type": "code",
   "execution_count": null,
   "metadata": {},
   "outputs": [],
   "source": [
    "USING PERIODIC COMMIT 500\n",
    "LOAD CSV WITH HEADERS FROM \"file:///TUIrel.csv\" AS csvLine\n",
    "FIELDTERMINATOR '\\t'\n",
    "MATCH (con:Semantic {TUI: csvLine.END_ID}),(subc:Semantic {TUI: csvLine.START_ID})\n",
    "CREATE (subc)-[:ISA_STY]->(con);"
   ]
  },
  {
   "cell_type": "code",
   "execution_count": null,
   "metadata": {},
   "outputs": [],
   "source": []
  },
  {
   "cell_type": "markdown",
   "metadata": {},
   "source": [
    "## STY"
   ]
  },
  {
   "cell_type": "code",
   "execution_count": 4,
   "metadata": {},
   "outputs": [
    {
     "data": {
      "text/html": [
       "<div>\n",
       "<style scoped>\n",
       "    .dataframe tbody tr th:only-of-type {\n",
       "        vertical-align: middle;\n",
       "    }\n",
       "\n",
       "    .dataframe tbody tr th {\n",
       "        vertical-align: top;\n",
       "    }\n",
       "\n",
       "    .dataframe thead th {\n",
       "        text-align: right;\n",
       "    }\n",
       "</style>\n",
       "<table border=\"1\" class=\"dataframe\">\n",
       "  <thead>\n",
       "    <tr style=\"text-align: right;\">\n",
       "      <th></th>\n",
       "      <th>START_ID</th>\n",
       "      <th>END_ID</th>\n",
       "    </tr>\n",
       "  </thead>\n",
       "  <tbody>\n",
       "    <tr>\n",
       "      <th>0</th>\n",
       "      <td>C0000005</td>\n",
       "      <td>T116</td>\n",
       "    </tr>\n",
       "    <tr>\n",
       "      <th>1</th>\n",
       "      <td>C0000005</td>\n",
       "      <td>T121</td>\n",
       "    </tr>\n",
       "    <tr>\n",
       "      <th>2</th>\n",
       "      <td>C0000005</td>\n",
       "      <td>T130</td>\n",
       "    </tr>\n",
       "    <tr>\n",
       "      <th>3</th>\n",
       "      <td>C0000039</td>\n",
       "      <td>T109</td>\n",
       "    </tr>\n",
       "    <tr>\n",
       "      <th>4</th>\n",
       "      <td>C0000039</td>\n",
       "      <td>T121</td>\n",
       "    </tr>\n",
       "  </tbody>\n",
       "</table>\n",
       "</div>"
      ],
      "text/plain": [
       "   START_ID END_ID\n",
       "0  C0000005   T116\n",
       "1  C0000005   T121\n",
       "2  C0000005   T130\n",
       "3  C0000039   T109\n",
       "4  C0000039   T121"
      ]
     },
     "execution_count": 4,
     "metadata": {},
     "output_type": "execute_result"
    }
   ],
   "source": [
    "con = pd.read_csv('data/UMLS-Graph-Extracts/CUI-TUIs.csv', sep='\\t')\n",
    "con.head()"
   ]
  },
  {
   "cell_type": "code",
   "execution_count": null,
   "metadata": {},
   "outputs": [],
   "source": [
    "USING PERIODIC COMMIT 500\n",
    "LOAD CSV WITH HEADERS FROM \"file:///CUI-TUIs.csv\" AS csvLine\n",
    "FIELDTERMINATOR '\\t'\n",
    "MATCH (con:Semantic {TUI: csvLine.END_ID}),(subc:Concept {CUI: csvLine.START_ID})\n",
    "CREATE (subc)-[:STY]->(con);"
   ]
  },
  {
   "cell_type": "code",
   "execution_count": null,
   "metadata": {},
   "outputs": [],
   "source": [
    "--relationships:STY /import/CUI-TUIs.csv"
   ]
  },
  {
   "cell_type": "code",
   "execution_count": null,
   "metadata": {},
   "outputs": [],
   "source": []
  },
  {
   "cell_type": "markdown",
   "metadata": {},
   "source": [
    "## cui_2_cui "
   ]
  },
  {
   "cell_type": "code",
   "execution_count": 8,
   "metadata": {},
   "outputs": [
    {
     "data": {
      "text/html": [
       "<div>\n",
       "<style scoped>\n",
       "    .dataframe tbody tr th:only-of-type {\n",
       "        vertical-align: middle;\n",
       "    }\n",
       "\n",
       "    .dataframe tbody tr th {\n",
       "        vertical-align: top;\n",
       "    }\n",
       "\n",
       "    .dataframe thead th {\n",
       "        text-align: right;\n",
       "    }\n",
       "</style>\n",
       "<table border=\"1\" class=\"dataframe\">\n",
       "  <thead>\n",
       "    <tr style=\"text-align: right;\">\n",
       "      <th></th>\n",
       "      <th>START_ID</th>\n",
       "      <th>END_ID</th>\n",
       "      <th>TYPE</th>\n",
       "      <th>SAB</th>\n",
       "    </tr>\n",
       "  </thead>\n",
       "  <tbody>\n",
       "    <tr>\n",
       "      <th>0</th>\n",
       "      <td>C0005778</td>\n",
       "      <td>C0005790</td>\n",
       "      <td>measured_by</td>\n",
       "      <td>CPM</td>\n",
       "    </tr>\n",
       "    <tr>\n",
       "      <th>1</th>\n",
       "      <td>C3537249</td>\n",
       "      <td>C1255279</td>\n",
       "      <td>measured_by</td>\n",
       "      <td>CPM</td>\n",
       "    </tr>\n",
       "    <tr>\n",
       "      <th>2</th>\n",
       "      <td>C0002520</td>\n",
       "      <td>C1255446</td>\n",
       "      <td>measured_by</td>\n",
       "      <td>CPM</td>\n",
       "    </tr>\n",
       "    <tr>\n",
       "      <th>3</th>\n",
       "      <td>C0596019</td>\n",
       "      <td>C1255552</td>\n",
       "      <td>measured_by</td>\n",
       "      <td>CPM</td>\n",
       "    </tr>\n",
       "    <tr>\n",
       "      <th>4</th>\n",
       "      <td>C0004611</td>\n",
       "      <td>C1254417</td>\n",
       "      <td>measured_by</td>\n",
       "      <td>CPM</td>\n",
       "    </tr>\n",
       "  </tbody>\n",
       "</table>\n",
       "</div>"
      ],
      "text/plain": [
       "   START_ID    END_ID         TYPE  SAB\n",
       "0  C0005778  C0005790  measured_by  CPM\n",
       "1  C3537249  C1255279  measured_by  CPM\n",
       "2  C0002520  C1255446  measured_by  CPM\n",
       "3  C0596019  C1255552  measured_by  CPM\n",
       "4  C0004611  C1254417  measured_by  CPM"
      ]
     },
     "execution_count": 8,
     "metadata": {},
     "output_type": "execute_result"
    }
   ],
   "source": [
    "con = pd.read_csv('data/UMLS-Graph-Extracts/CUI-CUIs.csv', sep='\\t')\n",
    "con.head()"
   ]
  },
  {
   "cell_type": "code",
   "execution_count": null,
   "metadata": {},
   "outputs": [],
   "source": [
    "USING PERIODIC COMMIT 500\n",
    "LOAD CSV WITH HEADERS FROM \"file:///CUI-CUIs.csv\" AS csvLine\n",
    "FIELDTERMINATOR '\\t'\n",
    "MATCH (con:Concept {CUI: csvLine.END_ID}),(subc:Concept {CUI: csvLine.START_ID})\n",
    "MERGE (subc)-[:CUI_REL{TYPE: csvLine.TYPE, SAB: csvLine.SAB}]->(con);"
   ]
  },
  {
   "cell_type": "markdown",
   "metadata": {},
   "source": [
    "## CODE"
   ]
  },
  {
   "cell_type": "code",
   "execution_count": 11,
   "metadata": {},
   "outputs": [
    {
     "data": {
      "text/html": [
       "<div>\n",
       "<style scoped>\n",
       "    .dataframe tbody tr th:only-of-type {\n",
       "        vertical-align: middle;\n",
       "    }\n",
       "\n",
       "    .dataframe tbody tr th {\n",
       "        vertical-align: top;\n",
       "    }\n",
       "\n",
       "    .dataframe thead th {\n",
       "        text-align: right;\n",
       "    }\n",
       "</style>\n",
       "<table border=\"1\" class=\"dataframe\">\n",
       "  <thead>\n",
       "    <tr style=\"text-align: right;\">\n",
       "      <th></th>\n",
       "      <th>START_ID</th>\n",
       "      <th>END_ID</th>\n",
       "    </tr>\n",
       "  </thead>\n",
       "  <tbody>\n",
       "    <tr>\n",
       "      <th>0</th>\n",
       "      <td>C0026106</td>\n",
       "      <td>ICD10 F70</td>\n",
       "    </tr>\n",
       "    <tr>\n",
       "      <th>1</th>\n",
       "      <td>C0026106</td>\n",
       "      <td>ICD10AM F70</td>\n",
       "    </tr>\n",
       "    <tr>\n",
       "      <th>2</th>\n",
       "      <td>C0026351</td>\n",
       "      <td>ICD10 F71</td>\n",
       "    </tr>\n",
       "    <tr>\n",
       "      <th>3</th>\n",
       "      <td>C0026351</td>\n",
       "      <td>ICD10AM F71</td>\n",
       "    </tr>\n",
       "    <tr>\n",
       "      <th>4</th>\n",
       "      <td>C0036857</td>\n",
       "      <td>ICD10 F72</td>\n",
       "    </tr>\n",
       "  </tbody>\n",
       "</table>\n",
       "</div>"
      ],
      "text/plain": [
       "   START_ID       END_ID\n",
       "0  C0026106    ICD10 F70\n",
       "1  C0026106  ICD10AM F70\n",
       "2  C0026351    ICD10 F71\n",
       "3  C0026351  ICD10AM F71\n",
       "4  C0036857    ICD10 F72"
      ]
     },
     "execution_count": 11,
     "metadata": {},
     "output_type": "execute_result"
    }
   ],
   "source": [
    "con = pd.read_csv('data/UMLS-Graph-Extracts/CUI-CODEs.csv', sep='\\t')\n",
    "con.head()"
   ]
  },
  {
   "cell_type": "code",
   "execution_count": null,
   "metadata": {},
   "outputs": [],
   "source": [
    "USING PERIODIC COMMIT 500\n",
    "LOAD CSV WITH HEADERS FROM \"file:///CUI-CODEs.csv\" AS csvLine\n",
    "FIELDTERMINATOR '\\t'\n",
    "MATCH (con:Code {CodeID: csvLine.END_ID}),(subc:Concept {CUI: csvLine.START_ID})\n",
    "CREATE (subc)-[:CUI_CODE]->(con);"
   ]
  },
  {
   "cell_type": "code",
   "execution_count": null,
   "metadata": {},
   "outputs": [],
   "source": [
    "--relationships:CODE /import/CUI-CODEs.csv"
   ]
  },
  {
   "cell_type": "code",
   "execution_count": null,
   "metadata": {},
   "outputs": [],
   "source": []
  },
  {
   "cell_type": "markdown",
   "metadata": {},
   "source": [
    "## CODE_TERM"
   ]
  },
  {
   "cell_type": "code",
   "execution_count": 10,
   "metadata": {},
   "outputs": [
    {
     "data": {
      "text/html": [
       "<div>\n",
       "<style scoped>\n",
       "    .dataframe tbody tr th:only-of-type {\n",
       "        vertical-align: middle;\n",
       "    }\n",
       "\n",
       "    .dataframe tbody tr th {\n",
       "        vertical-align: top;\n",
       "    }\n",
       "\n",
       "    .dataframe thead th {\n",
       "        text-align: right;\n",
       "    }\n",
       "</style>\n",
       "<table border=\"1\" class=\"dataframe\">\n",
       "  <thead>\n",
       "    <tr style=\"text-align: right;\">\n",
       "      <th></th>\n",
       "      <th>END_ID</th>\n",
       "      <th>TYPE</th>\n",
       "      <th>CUI</th>\n",
       "      <th>START_ID</th>\n",
       "    </tr>\n",
       "  </thead>\n",
       "  <tbody>\n",
       "    <tr>\n",
       "      <th>0</th>\n",
       "      <td>S0000001</td>\n",
       "      <td>HT</td>\n",
       "      <td>C0026106</td>\n",
       "      <td>ICD10 F70</td>\n",
       "    </tr>\n",
       "    <tr>\n",
       "      <th>1</th>\n",
       "      <td>S0000001</td>\n",
       "      <td>HT</td>\n",
       "      <td>C0026106</td>\n",
       "      <td>ICD10AM F70</td>\n",
       "    </tr>\n",
       "    <tr>\n",
       "      <th>2</th>\n",
       "      <td>S0000002</td>\n",
       "      <td>HT</td>\n",
       "      <td>C0026351</td>\n",
       "      <td>ICD10 F71</td>\n",
       "    </tr>\n",
       "    <tr>\n",
       "      <th>3</th>\n",
       "      <td>S0000002</td>\n",
       "      <td>HT</td>\n",
       "      <td>C0026351</td>\n",
       "      <td>ICD10AM F71</td>\n",
       "    </tr>\n",
       "    <tr>\n",
       "      <th>4</th>\n",
       "      <td>S0000003</td>\n",
       "      <td>HT</td>\n",
       "      <td>C0036857</td>\n",
       "      <td>ICD10 F72</td>\n",
       "    </tr>\n",
       "  </tbody>\n",
       "</table>\n",
       "</div>"
      ],
      "text/plain": [
       "     END_ID TYPE       CUI     START_ID\n",
       "0  S0000001   HT  C0026106    ICD10 F70\n",
       "1  S0000001   HT  C0026106  ICD10AM F70\n",
       "2  S0000002   HT  C0026351    ICD10 F71\n",
       "3  S0000002   HT  C0026351  ICD10AM F71\n",
       "4  S0000003   HT  C0036857    ICD10 F72"
      ]
     },
     "execution_count": 10,
     "metadata": {},
     "output_type": "execute_result"
    }
   ],
   "source": [
    "con = pd.read_csv('data/UMLS-Graph-Extracts/CODE-SUIs.csv', sep='\\t')\n",
    "con.head()"
   ]
  },
  {
   "cell_type": "code",
   "execution_count": null,
   "metadata": {},
   "outputs": [],
   "source": [
    "USING PERIODIC COMMIT 500\n",
    "LOAD CSV WITH HEADERS FROM \"file:///CODE-SUIs.csv\" AS csvLine\n",
    "FIELDTERMINATOR '\\t'\n",
    "MATCH (con:Term {SUI: csvLine.END_ID}),(subc:Code {CodeID: csvLine.START_ID})\n",
    "CREATE (subc)-[:CODE_TERM{TYPE: csvLine.TYPE, CUI: csvLine.CUI}]->(con);"
   ]
  },
  {
   "cell_type": "code",
   "execution_count": null,
   "metadata": {},
   "outputs": [],
   "source": [
    "relationships /import/CODE-SUIs.csv"
   ]
  },
  {
   "cell_type": "code",
   "execution_count": null,
   "metadata": {},
   "outputs": [],
   "source": []
  },
  {
   "cell_type": "markdown",
   "metadata": {},
   "source": [
    "## PREF_TERM"
   ]
  },
  {
   "cell_type": "code",
   "execution_count": null,
   "metadata": {},
   "outputs": [],
   "source": [
    "--relationships:PREF_TERM /import/CUI-SUIs.csv"
   ]
  },
  {
   "cell_type": "code",
   "execution_count": 14,
   "metadata": {},
   "outputs": [
    {
     "data": {
      "text/html": [
       "<div>\n",
       "<style scoped>\n",
       "    .dataframe tbody tr th:only-of-type {\n",
       "        vertical-align: middle;\n",
       "    }\n",
       "\n",
       "    .dataframe tbody tr th {\n",
       "        vertical-align: top;\n",
       "    }\n",
       "\n",
       "    .dataframe thead th {\n",
       "        text-align: right;\n",
       "    }\n",
       "</style>\n",
       "<table border=\"1\" class=\"dataframe\">\n",
       "  <thead>\n",
       "    <tr style=\"text-align: right;\">\n",
       "      <th></th>\n",
       "      <th>START_ID</th>\n",
       "      <th>END_ID</th>\n",
       "    </tr>\n",
       "  </thead>\n",
       "  <tbody>\n",
       "    <tr>\n",
       "      <th>0</th>\n",
       "      <td>C0011251</td>\n",
       "      <td>S0000118</td>\n",
       "    </tr>\n",
       "    <tr>\n",
       "      <th>1</th>\n",
       "      <td>C0030540</td>\n",
       "      <td>S0000220</td>\n",
       "    </tr>\n",
       "    <tr>\n",
       "      <th>2</th>\n",
       "      <td>C0042721</td>\n",
       "      <td>S0000337</td>\n",
       "    </tr>\n",
       "    <tr>\n",
       "      <th>3</th>\n",
       "      <td>C0040255</td>\n",
       "      <td>S0000353</td>\n",
       "    </tr>\n",
       "    <tr>\n",
       "      <th>4</th>\n",
       "      <td>C0342122</td>\n",
       "      <td>S0000439</td>\n",
       "    </tr>\n",
       "  </tbody>\n",
       "</table>\n",
       "</div>"
      ],
      "text/plain": [
       "   START_ID    END_ID\n",
       "0  C0011251  S0000118\n",
       "1  C0030540  S0000220\n",
       "2  C0042721  S0000337\n",
       "3  C0040255  S0000353\n",
       "4  C0342122  S0000439"
      ]
     },
     "execution_count": 14,
     "metadata": {},
     "output_type": "execute_result"
    }
   ],
   "source": [
    "con = pd.read_csv('data/UMLS-Graph-Extracts/CUI-SUIs.csv', sep='\\t')\n",
    "con.head()"
   ]
  },
  {
   "cell_type": "code",
   "execution_count": null,
   "metadata": {},
   "outputs": [],
   "source": [
    "USING PERIODIC COMMIT 500\n",
    "LOAD CSV WITH HEADERS FROM \"file:///CUI-SUIs.csv\" AS csvLine\n",
    "FIELDTERMINATOR '\\t'\n",
    "MATCH (con:Term {SUI: csvLine.END_ID}),(subc:Concept {CUI: csvLine.START_ID})\n",
    "CREATE (subc)-[:PREF_TERM]->(con);"
   ]
  },
  {
   "cell_type": "code",
   "execution_count": null,
   "metadata": {},
   "outputs": [],
   "source": []
  },
  {
   "cell_type": "markdown",
   "metadata": {},
   "source": [
    "## DEFrel"
   ]
  },
  {
   "cell_type": "code",
   "execution_count": 25,
   "metadata": {},
   "outputs": [
    {
     "data": {
      "text/html": [
       "<div>\n",
       "<style scoped>\n",
       "    .dataframe tbody tr th:only-of-type {\n",
       "        vertical-align: middle;\n",
       "    }\n",
       "\n",
       "    .dataframe tbody tr th {\n",
       "        vertical-align: top;\n",
       "    }\n",
       "\n",
       "    .dataframe thead th {\n",
       "        text-align: right;\n",
       "    }\n",
       "</style>\n",
       "<table border=\"1\" class=\"dataframe\">\n",
       "  <thead>\n",
       "    <tr style=\"text-align: right;\">\n",
       "      <th></th>\n",
       "      <th>END_ID</th>\n",
       "      <th>START_ID</th>\n",
       "    </tr>\n",
       "  </thead>\n",
       "  <tbody>\n",
       "    <tr>\n",
       "      <th>0</th>\n",
       "      <td>AT100258389</td>\n",
       "      <td>C0007662</td>\n",
       "    </tr>\n",
       "    <tr>\n",
       "      <th>1</th>\n",
       "      <td>AT100258390</td>\n",
       "      <td>C0031705</td>\n",
       "    </tr>\n",
       "    <tr>\n",
       "      <th>2</th>\n",
       "      <td>AT100258391</td>\n",
       "      <td>C0319858</td>\n",
       "    </tr>\n",
       "    <tr>\n",
       "      <th>3</th>\n",
       "      <td>AT100258392</td>\n",
       "      <td>C0026655</td>\n",
       "    </tr>\n",
       "    <tr>\n",
       "      <th>4</th>\n",
       "      <td>AT100258393</td>\n",
       "      <td>C2350764</td>\n",
       "    </tr>\n",
       "  </tbody>\n",
       "</table>\n",
       "</div>"
      ],
      "text/plain": [
       "        END_ID  START_ID\n",
       "0  AT100258389  C0007662\n",
       "1  AT100258390  C0031705\n",
       "2  AT100258391  C0319858\n",
       "3  AT100258392  C0026655\n",
       "4  AT100258393  C2350764"
      ]
     },
     "execution_count": 25,
     "metadata": {},
     "output_type": "execute_result"
    }
   ],
   "source": [
    "con = pd.read_csv('data/UMLS-Graph-Extracts/DEFrel.csv', sep='\\t')\n",
    "con.head()"
   ]
  },
  {
   "cell_type": "code",
   "execution_count": null,
   "metadata": {},
   "outputs": [],
   "source": [
    "USING PERIODIC COMMIT 500\n",
    "LOAD CSV WITH HEADERS FROM \"file:///DEFrel.csv\" AS csvLine\n",
    "FIELDTERMINATOR '\\t'\n",
    "MATCH (con:Definition {ATUI: csvLine.END_ID}),(subc:Concept {CUI: csvLine.START_ID})\n",
    "CREATE (subc)-[:DEF]->(con);"
   ]
  },
  {
   "cell_type": "code",
   "execution_count": null,
   "metadata": {},
   "outputs": [],
   "source": [
    "--relationships:DEF /import/DEFrel.csv"
   ]
  },
  {
   "cell_type": "code",
   "execution_count": null,
   "metadata": {},
   "outputs": [],
   "source": []
  },
  {
   "cell_type": "code",
   "execution_count": null,
   "metadata": {},
   "outputs": [],
   "source": []
  },
  {
   "cell_type": "code",
   "execution_count": null,
   "metadata": {},
   "outputs": [],
   "source": [
    "bin/neo4j-admin import\n",
    "--nodes:Semantic /import/TUIs.csv\n",
    "--nodes:Concept /import/CUIs.csv\n",
    "--nodes:Code /import/CODEs.csv\n",
    "--nodes:Term /import/SUIs.csv\n",
    "--nodes:Definition /import/DEFs.csv\n",
    "--relationships:ISA_STY /import/TUIrel.csv\n",
    "--relationships:STY /import/CUI-TUIs.csv\n",
    "--relationships /import/CUI-CUIs.csv\n",
    "--relationships:CODE /import/CUI-CODEs.csv\n",
    "--relationships /import/CODE-SUIs.csv\n",
    "--relationships:PREF_TERM /import/CUI-SUIs.csv\n",
    "--relationships:DEF /import/DEFrel.csv\n",
    "--skip-duplicate-nodes\n",
    "--skip-bad-relationships"
   ]
  },
  {
   "cell_type": "code",
   "execution_count": null,
   "metadata": {},
   "outputs": [],
   "source": []
  },
  {
   "cell_type": "code",
   "execution_count": null,
   "metadata": {},
   "outputs": [],
   "source": []
  },
  {
   "cell_type": "code",
   "execution_count": null,
   "metadata": {},
   "outputs": [],
   "source": []
  },
  {
   "cell_type": "code",
   "execution_count": null,
   "metadata": {},
   "outputs": [],
   "source": []
  },
  {
   "cell_type": "code",
   "execution_count": 50,
   "metadata": {},
   "outputs": [],
   "source": [
    "# Concepts\n",
    "CREATE CONSTRAINT ON (c:Concepts) ASSERT c.id IS UNIQUE;\n",
    "CREATE INDEX ON :Concepts(cui); // 2 ms\n",
    "    \n",
    "USING PERIODIC COMMIT 500\n",
    "LOAD csv with headers from \"file:///home/ubuntu/snomed/data/concepts.csv\" as line\n",
    "with line\n",
    "CREATE (:Concepts\n",
    "        { id: line.CUI, cui: line.CUI, name: line.STR} );"
   ]
  },
  {
   "cell_type": "code",
   "execution_count": null,
   "metadata": {},
   "outputs": [],
   "source": [
    "MATCH (n:Concepts)\n",
    "DETACH DELETE n; "
   ]
  },
  {
   "cell_type": "code",
   "execution_count": null,
   "metadata": {},
   "outputs": [],
   "source": [
    "# SubConcepts\n",
    "CREATE CONSTRAINT ON (c:SubConcepts) ASSERT c.id IS UNIQUE;\n",
    "CREATE INDEX ON :SubConcepts(scui); // 2 ms\n",
    "CREATE INDEX ON :SubConcepts(cui); // 2 ms\n",
    "    \n",
    "USING PERIODIC COMMIT 500\n",
    "LOAD csv with headers from \"file:///home/ubuntu/snomed/data/subconcepts.csv\" as line\n",
    "with line\n",
    "CREATE (:SubConcepts\n",
    "        {id: line.SCUI, scui: line.SCUI, cui: line.CUI, name: line.STR, vocabulary: line.SAB});"
   ]
  },
  {
   "cell_type": "code",
   "execution_count": null,
   "metadata": {},
   "outputs": [],
   "source": [
    "MATCH (n:SubConcepts)\n",
    "DETACH DELETE n; "
   ]
  },
  {
   "cell_type": "code",
   "execution_count": 8,
   "metadata": {},
   "outputs": [],
   "source": [
    "# CALL apoc.periodic.iterate(\n",
    "# \"MATCH (con:Concepts)\n",
    "# WITH con\n",
    "# MATCH (subc:SubConcepts)\n",
    "# WHERE subc.CUI = con.CUI\n",
    "# RETURN con, subc\",\n",
    "# \"MERGE(subc)-[r:scui_2_cui]-(con)\n",
    "# DELETE r\", {batchSize:1000, parallel:true});"
   ]
  },
  {
   "cell_type": "code",
   "execution_count": null,
   "metadata": {},
   "outputs": [],
   "source": [
    "# scui_2_cui\n",
    "USING PERIODIC COMMIT 500\n",
    "LOAD CSV WITH HEADERS FROM \"file:///home/ubuntu/snomed/data/subconcepts.csv\" AS csvLine\n",
    "MATCH (con:Concepts {id: csvLine.CUI}),(subc:SubConcepts {id: csvLine.SCUI})\n",
    "CREATE (subc)-[:scui_2_cui]->(con);"
   ]
  },
  {
   "cell_type": "code",
   "execution_count": null,
   "metadata": {},
   "outputs": [],
   "source": [
    "# cui_2_cui\n",
    "USING PERIODIC COMMIT 500\n",
    "LOAD CSV WITH HEADERS FROM \"file:///home/ubuntu/snomed/data/relations.csv\" AS csvLine\n",
    "MATCH (con1:Concepts {id: csvLine.CUI1}),(con2:Concepts {id: csvLine.CUI2})\n",
    "CREATE (con1)-[:cui_2_cui {relation: csvLine.RELA}]->(con2);"
   ]
  },
  {
   "cell_type": "code",
   "execution_count": null,
   "metadata": {},
   "outputs": [],
   "source": [
    "# Semantic_type\n",
    "CREATE CONSTRAINT ON (c:SemanticType) ASSERT c.id IS UNIQUE;\n",
    "CREATE INDEX ON :SemanticType(tui); // 2 ms\n",
    "    \n",
    "USING PERIODIC COMMIT 500\n",
    "LOAD csv with headers from \"file:///home/ubuntu/snomed/data/stypes.csv\" as line\n",
    "with line\n",
    "CREATE (:SemanticType\n",
    "        { id: line.TUI, tui: line.TUI, name: line.STY, chapter: line.STN} );"
   ]
  },
  {
   "cell_type": "code",
   "execution_count": null,
   "metadata": {},
   "outputs": [],
   "source": [
    "USING PERIODIC COMMIT 500\n",
    "LOAD CSV WITH HEADERS FROM \"file:///home/ubuntu/snomed/data/semantype.csv\" AS csvLine\n",
    "MATCH (con1:Concepts {id: csvLine.CUI}),(con2:SemanticType {id: csvLine.TUI})\n",
    "CREATE (con1)-[:cui_2_tui]->(con2);"
   ]
  },
  {
   "cell_type": "code",
   "execution_count": null,
   "metadata": {},
   "outputs": [],
   "source": []
  },
  {
   "cell_type": "code",
   "execution_count": null,
   "metadata": {},
   "outputs": [],
   "source": []
  },
  {
   "cell_type": "code",
   "execution_count": null,
   "metadata": {},
   "outputs": [],
   "source": []
  },
  {
   "cell_type": "code",
   "execution_count": null,
   "metadata": {},
   "outputs": [],
   "source": []
  },
  {
   "cell_type": "code",
   "execution_count": null,
   "metadata": {},
   "outputs": [],
   "source": []
  },
  {
   "cell_type": "code",
   "execution_count": null,
   "metadata": {},
   "outputs": [],
   "source": []
  }
 ],
 "metadata": {
  "kernelspec": {
   "display_name": "Python 3",
   "language": "python",
   "name": "python3"
  },
  "language_info": {
   "codemirror_mode": {
    "name": "ipython",
    "version": 3
   },
   "file_extension": ".py",
   "mimetype": "text/x-python",
   "name": "python",
   "nbconvert_exporter": "python",
   "pygments_lexer": "ipython3",
   "version": "3.8.8"
  }
 },
 "nbformat": 4,
 "nbformat_minor": 4
}
