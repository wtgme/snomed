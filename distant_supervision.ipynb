{
 "cells": [
  {
   "cell_type": "code",
   "execution_count": null,
   "metadata": {},
   "outputs": [],
   "source": [
    "# !pip uninstall scispacy "
   ]
  },
  {
   "cell_type": "code",
   "execution_count": 2,
   "metadata": {},
   "outputs": [],
   "source": [
    "import scispacy\n",
    "import spacy\n",
    "import pandas as pd\n",
    "import sys\n",
    "from datetime import datetime "
   ]
  },
  {
   "cell_type": "code",
   "execution_count": 3,
   "metadata": {},
   "outputs": [],
   "source": [
    "nlp = spacy.load(\"en_core_sci_scibert\")"
   ]
  },
  {
   "cell_type": "code",
   "execution_count": null,
   "metadata": {},
   "outputs": [],
   "source": [
    "# notes = pd.read_csv(\"/users/k1810895/data/KER/data/mimic_notes.csv\")"
   ]
  },
  {
   "cell_type": "code",
   "execution_count": null,
   "metadata": {},
   "outputs": [],
   "source": [
    "# text = '''This is a 55 y/o M, with H/O Hep C ( presumed from blood transfusions\n",
    "#    s/p 3 rd degree burns in an industrial accident in [**2111**]), with known\n",
    "#    h/o varices who presented on [**3-26**]^th [**2144**] , with abdominal\n",
    "#    distension,jaundice & found to have spontaneous bacterial peritonitis,\n",
    "#    was admitted to [**Hospital Ward Name 383**] 10.\n",
    "#    Change in mentation noted throughout the day, missed his lactulose dose\n",
    "#    [**12-21**] to altered mental status unable to drink safely with risk of\n",
    "#    aspiration, creatinine found to be 8.0 ( Baseline 0.8), BUN in 100\n",
    "#    HD catheter with VIPort inserted & transferred to MICU 6 for further\n",
    "#    management.\n",
    "#    Events :\n",
    "#    Patient dialyzed from [**2165**] hrs to 2230 hrs with only 500 mls fluid\n",
    "#    removal [**12-21**] to Low BP during dialysis.\n",
    "#    IV Albumin 100 grams given as per orders.\n",
    "#    NGT inserted , had minimal bleeding during insertion. (INR 3.7 in am\n",
    "#    lab- had received 4 units of FFP from [**Wardname **]). Had coffee ground NG\n",
    "#    aspirate , connected to low intermittent suction until cleared. Due\n",
    "#    dose of Lactulose given.\n",
    "#    Hepatorenal syndrome\n",
    "#    Assessment:\n",
    "#    Patient is Anuric since am of [**2145-4-1**] as per report received from [**Hospital Ward Name 383**]\n",
    "#    10. Labs drawb prior to Hemodialysis, Please see metavision for lab\n",
    "#    values.\n",
    "#    Action:\n",
    "#    Patient had Hemodialysis done for 2 hours with 500 mls fluid removal\n",
    "#    for the first time.\n",
    "#    Response:\n",
    "#    Renal function continues to be deranged in am labs, continues to be\n",
    "#    anuric.\n",
    "#    Plan:\n",
    "#    Continue monitoring labs, To follow up on next HD\n",
    "#    Electrolyte & fluid disorder, other\n",
    "#    Assessment:\n",
    "#    Action:\n",
    "#    Response:\n",
    "#    Plan:\n",
    "#    Altered mental status (not Delirium)\n",
    "#    Assessment:\n",
    "#    Action:\n",
    "#    Response:\n",
    "#    Plan:\n",
    "#    Hematemesis (upper GI bleed, UGIB)\n",
    "#    Assessment:\n",
    "#    Action:\n",
    "#    Response:\n",
    "#    Plan:\n",
    "#    Bradycardia\n",
    "#    Assessment:\n",
    "#    Action:\n",
    "#    Response:\n",
    "#    Plan:\n",
    "#    Hypotension (not Shock)\n",
    "#    Assessment:\n",
    "#    Action:\n",
    "#    Response:\n",
    "#    Plan:\n",
    "# '''\n",
    "# tokens = nlp(text)\n",
    "\n",
    "# for sent in tokens.sents:\n",
    "#     print(sent.text, sent.start_char, sent.end_char, sent.start, sent.end)"
   ]
  },
  {
   "cell_type": "markdown",
   "metadata": {},
   "source": [
    "#### The formatt {\"text\": \"Directed by Andrei Zagdansky Not rated ; 72 minutes In the documentary '' Orange Winter '' orange blooms throughout Kiev , Ukraine , the epicenter of dissent over that country 's stolen 2004 presidential elections .\", \"relation\": \"/location/country/capital\", \"h\": {\"id\": \"m.07t21\", \"name\": \"Ukraine\", \"pos\": [123, 130]}, \"t\": {\"id\": \"m.02sn34\", \"name\": \"Kiev\", \"pos\": [116, 120]}}"
   ]
  },
  {
   "cell_type": "markdown",
   "metadata": {},
   "source": [
    "## Identify concepts from sentences"
   ]
  },
  {
   "cell_type": "markdown",
   "metadata": {},
   "source": [
    "All text are annoated with UMLS CUIs. Go through each sentence and find CUIs in each sentence. If a pair of CUIs have a relation defined in UMLS, label it as a positive sample.\n",
    "\n",
    "Cannot go through local json outputs, since json files with the same ids may not contain the same set of documents. Need to load all the data to search, which is too big. \n",
    "\n",
    "Medcat does not provide sentence split cutoff in the results. So cannot get sentence infor in annotations. Scispacy provides such information. \n",
    "\n",
    "So:\n",
    "1. Use sentence_seg.sh split documents into sentences. \n",
    "2. All annotations have been ingested to ES, which allows query, on openstack. \n",
    "3. Go through each sentences resulted from sentence_seg.sh and collect all annotations in the same sentence. \n",
    "4. Obtain positive and negative samples from openstack instead of hpc. \n",
    "\n",
    "\n",
    "The above process is too complicated. So using NLTK to split sentences and input the annotator to get annotations. \n",
    "using *_sentences.sh job scripts. \n",
    "\n",
    "Using NLTK is very slow and the outputs from NLTK sentence splitters are different from those from spacy. Finally, rewrite the parser for Medcat output and use the \"sentence\" object in the scispacy output to produce sentence-level annotations. \n"
   ]
  },
  {
   "cell_type": "code",
   "execution_count": null,
   "metadata": {},
   "outputs": [],
   "source": []
  },
  {
   "cell_type": "markdown",
   "metadata": {},
   "source": [
    "## Enumerate all combinations of entity pairs in sentences"
   ]
  },
  {
   "cell_type": "code",
   "execution_count": 1,
   "metadata": {},
   "outputs": [],
   "source": [
    "import pandas as pd\n",
    "import numpy as np\n",
    "import seaborn as sns\n",
    "import matplotlib.pyplot as plt\n",
    "import pickle\n",
    "import json\n",
    "from itertools import combinations\n",
    "from scipy import stats\n",
    "from collections import Counter"
   ]
  },
  {
   "cell_type": "code",
   "execution_count": 2,
   "metadata": {},
   "outputs": [],
   "source": [
    "rels = json.load(open('data/rel_map.json', 'r'))"
   ]
  },
  {
   "cell_type": "code",
   "execution_count": 3,
   "metadata": {},
   "outputs": [
    {
     "data": {
      "text/plain": [
       "[('C0000039-C0043950', {'rela': 'mapped_to', 'dir': 'N', 'rui': 'R148171650'}),\n",
       " ('C0000039-C0381030', {'rela': 'mapped_to', 'dir': 'N', 'rui': 'R148166148'}),\n",
       " ('C0000039-C0615231', {'rela': 'mapped_to', 'dir': 'N', 'rui': 'R148263106'})]"
      ]
     },
     "execution_count": 3,
     "metadata": {},
     "output_type": "execute_result"
    }
   ],
   "source": [
    "list(rels.items())[:3]"
   ]
  },
  {
   "cell_type": "code",
   "execution_count": 7,
   "metadata": {},
   "outputs": [],
   "source": [
    "# notes.head()"
   ]
  },
  {
   "cell_type": "code",
   "execution_count": 4,
   "metadata": {},
   "outputs": [],
   "source": [
    "stypes = pd.read_csv('data/types_list.csv')"
   ]
  },
  {
   "cell_type": "code",
   "execution_count": 5,
   "metadata": {},
   "outputs": [
    {
     "data": {
      "text/html": [
       "<div>\n",
       "<style scoped>\n",
       "    .dataframe tbody tr th:only-of-type {\n",
       "        vertical-align: middle;\n",
       "    }\n",
       "\n",
       "    .dataframe tbody tr th {\n",
       "        vertical-align: top;\n",
       "    }\n",
       "\n",
       "    .dataframe thead th {\n",
       "        text-align: right;\n",
       "    }\n",
       "</style>\n",
       "<table border=\"1\" class=\"dataframe\">\n",
       "  <thead>\n",
       "    <tr style=\"text-align: right;\">\n",
       "      <th></th>\n",
       "      <th>TUI</th>\n",
       "      <th>Name</th>\n",
       "      <th>Relevant</th>\n",
       "      <th>Chapter</th>\n",
       "      <th>Example Concepts</th>\n",
       "    </tr>\n",
       "  </thead>\n",
       "  <tbody>\n",
       "    <tr>\n",
       "      <th>0</th>\n",
       "      <td>T001</td>\n",
       "      <td>Organism</td>\n",
       "      <td>0</td>\n",
       "      <td>A1.1</td>\n",
       "      <td>['Microorganism &amp;#x7C; XXX', 'XXX microorganis...</td>\n",
       "    </tr>\n",
       "    <tr>\n",
       "      <th>1</th>\n",
       "      <td>T002</td>\n",
       "      <td>Plant</td>\n",
       "      <td>0</td>\n",
       "      <td>A1.1.3.3</td>\n",
       "      <td>['Grain &amp;#x7C; bld-ser-plas', 'Chick pea (cice...</td>\n",
       "    </tr>\n",
       "    <tr>\n",
       "      <th>2</th>\n",
       "      <td>T004</td>\n",
       "      <td>Fungus</td>\n",
       "      <td>1</td>\n",
       "      <td>A1.1.3.2</td>\n",
       "      <td>['Yeast &amp;#x7C; cervix', 'Yeast &amp;#124; stool', ...</td>\n",
       "    </tr>\n",
       "    <tr>\n",
       "      <th>3</th>\n",
       "      <td>T005</td>\n",
       "      <td>Virus</td>\n",
       "      <td>1</td>\n",
       "      <td>A1.1.4</td>\n",
       "      <td>['Cytomegalovirus &amp;#x7C; bld-ser-plas', 'Infec...</td>\n",
       "    </tr>\n",
       "    <tr>\n",
       "      <th>4</th>\n",
       "      <td>T007</td>\n",
       "      <td>Bacterium</td>\n",
       "      <td>1</td>\n",
       "      <td>A1.1.2</td>\n",
       "      <td>['Bacteria &amp;#124; peritoneal fluid', 'Helicoba...</td>\n",
       "    </tr>\n",
       "  </tbody>\n",
       "</table>\n",
       "</div>"
      ],
      "text/plain": [
       "    TUI       Name  Relevant   Chapter  \\\n",
       "0  T001   Organism         0      A1.1   \n",
       "1  T002      Plant         0  A1.1.3.3   \n",
       "2  T004     Fungus         1  A1.1.3.2   \n",
       "3  T005      Virus         1    A1.1.4   \n",
       "4  T007  Bacterium         1    A1.1.2   \n",
       "\n",
       "                                    Example Concepts  \n",
       "0  ['Microorganism &#x7C; XXX', 'XXX microorganis...  \n",
       "1  ['Grain &#x7C; bld-ser-plas', 'Chick pea (cice...  \n",
       "2  ['Yeast &#x7C; cervix', 'Yeast &#124; stool', ...  \n",
       "3  ['Cytomegalovirus &#x7C; bld-ser-plas', 'Infec...  \n",
       "4  ['Bacteria &#124; peritoneal fluid', 'Helicoba...  "
      ]
     },
     "execution_count": 5,
     "metadata": {},
     "output_type": "execute_result"
    }
   ],
   "source": [
    "stypes.head()"
   ]
  },
  {
   "cell_type": "code",
   "execution_count": 6,
   "metadata": {},
   "outputs": [],
   "source": [
    "type2chapter = pd.Series(stypes.Chapter.values,index=stypes.TUI).to_dict()"
   ]
  },
  {
   "cell_type": "markdown",
   "metadata": {},
   "source": [
    "### Some documents are full of metrics and not provide useful language. So focus on discharge summary"
   ]
  },
  {
   "cell_type": "code",
   "execution_count": 13,
   "metadata": {},
   "outputs": [],
   "source": [
    "# notes = pd.read_csv('/users/k1810895/data/KER/data/mimic_notes.csv')"
   ]
  },
  {
   "cell_type": "code",
   "execution_count": 14,
   "metadata": {},
   "outputs": [],
   "source": [
    "# discharg_dids = set(notes[notes['category']=='Discharge summary']['row_id'].tolist())"
   ]
  },
  {
   "cell_type": "code",
   "execution_count": 16,
   "metadata": {},
   "outputs": [],
   "source": [
    "# del notes"
   ]
  },
  {
   "cell_type": "code",
   "execution_count": 10,
   "metadata": {},
   "outputs": [
    {
     "data": {
      "text/plain": [
       "59652"
      ]
     },
     "execution_count": 10,
     "metadata": {},
     "output_type": "execute_result"
    }
   ],
   "source": [
    "len(discharg_dids)"
   ]
  },
  {
   "cell_type": "code",
   "execution_count": 11,
   "metadata": {},
   "outputs": [],
   "source": [
    "discharg_dids = pd.read_csv('data/mimic_discharge_note_ids.csv')"
   ]
  },
  {
   "cell_type": "code",
   "execution_count": 17,
   "metadata": {},
   "outputs": [],
   "source": [
    "discharg_dids = set(discharg_dids['row_id'].tolist())"
   ]
  },
  {
   "cell_type": "code",
   "execution_count": 18,
   "metadata": {},
   "outputs": [
    {
     "data": {
      "text/plain": [
       "59652"
      ]
     },
     "execution_count": 18,
     "metadata": {},
     "output_type": "execute_result"
    }
   ],
   "source": [
    "len(discharg_dids)"
   ]
  },
  {
   "cell_type": "markdown",
   "metadata": {},
   "source": [
    "### Compare Medcat and Scispacy annotation granularity "
   ]
  },
  {
   "cell_type": "code",
   "execution_count": 19,
   "metadata": {},
   "outputs": [],
   "source": [
    "import pickle"
   ]
  },
  {
   "cell_type": "code",
   "execution_count": 20,
   "metadata": {},
   "outputs": [],
   "source": [
    "apath = '/users/k1810895/data/KER/data/scispacy_sentences/'\n",
    "bpath = '/users/k1810895/data/KER/data/medcat_sentence/'"
   ]
  },
  {
   "cell_type": "code",
   "execution_count": 21,
   "metadata": {},
   "outputs": [],
   "source": [
    "def sentence_annots(path):\n",
    "    annot_counts = []\n",
    "    annot_types = []\n",
    "    annot_chapters = []\n",
    "    for index in range(1000):\n",
    "        file_name = 'batch' + str(index) + '.json'\n",
    "\n",
    "        docs = json.load(open(path+file_name, 'r'))\n",
    "\n",
    "        for did in docs.keys():\n",
    "            if int(did) in discharg_dids:\n",
    "                sents = docs[did]\n",
    "                for sid in sents.keys():\n",
    "                    sent = sents[sid]\n",
    "                    text = sent['sent_text']\n",
    "                    annots = sent['sent_annots']\n",
    "                    annot_counts.append(len(annots))\n",
    "                    for annot in annots:\n",
    "#                       Choose the first semantic type if multiple types are available\n",
    "                        type_str = annot['types'].split(',')[0]\n",
    "#                         annot_types.append(type_str)\n",
    "                        cha = len(type2chapter[type_str].split('.'))\n",
    "                        annot_chapters.append(cha)\n",
    "    return annot_counts, annot_chapters"
   ]
  },
  {
   "cell_type": "code",
   "execution_count": 22,
   "metadata": {},
   "outputs": [],
   "source": [
    "def sentence_annots_medcat(path):\n",
    "    annot_counts = []\n",
    "    annot_types = []\n",
    "    annot_chapters = []\n",
    "    for index in range(1000):\n",
    "        file_name = 'batch' + str(index) + '.json'\n",
    "\n",
    "        docs = json.load(open(path+file_name, 'r'))\n",
    "\n",
    "        for did in docs.keys():\n",
    "            if int(did) in discharg_dids:\n",
    "                sents = docs[did]\n",
    "                for sid in sents.keys():\n",
    "                    sent = sents[sid]\n",
    "                    text = sent['sent_text']\n",
    "                    annots = sent['sent_annots']\n",
    "                    annot_counts.append(len(annots))\n",
    "                    for annot in annots:\n",
    "#                       Choose the first semantic type if multiple types are available\n",
    "                        type_str = annot['tui'].split(',')[0]\n",
    "                        cha = len(type2chapter[type_str].split('.'))\n",
    "                        annot_chapters.append(cha)\n",
    "    return annot_counts, annot_chapters"
   ]
  },
  {
   "cell_type": "code",
   "execution_count": 16,
   "metadata": {},
   "outputs": [],
   "source": [
    "a_counts, a_chapters = sentence_annots(apath)"
   ]
  },
  {
   "cell_type": "code",
   "execution_count": 18,
   "metadata": {},
   "outputs": [],
   "source": [
    "b_counts, b_chapters = sentence_annots_medcat(bpath)"
   ]
  },
  {
   "cell_type": "code",
   "execution_count": 27,
   "metadata": {},
   "outputs": [],
   "source": [
    "pickle.dump((a_counts, a_chapters), open('data/scispacy_annots_stat.pick', 'wb'))"
   ]
  },
  {
   "cell_type": "code",
   "execution_count": 28,
   "metadata": {},
   "outputs": [],
   "source": [
    "pickle.dump((b_counts, b_chapters), open('data/medcat_annots_stat.pick', 'wb'))"
   ]
  },
  {
   "cell_type": "markdown",
   "metadata": {},
   "source": [
    "#### Distribution of annotations' chapters"
   ]
  },
  {
   "cell_type": "code",
   "execution_count": 57,
   "metadata": {},
   "outputs": [
    {
     "data": {
      "image/png": "[encoded data removed]",
      "text/plain": [
       "<Figure size 432x288 with 1 Axes>"
      ]
     },
     "metadata": {
      "needs_background": "light"
     },
     "output_type": "display_data"
    }
   ],
   "source": [
    "sns.distplot(a_chapters)\n",
    "plt.xlabel(\"Chapter level of entities\")\n",
    "plt.ylabel(\"PDF (entities)\")\n",
    "plt.title(\"Scispacy on MIMIC\")\n",
    "plt.show()"
   ]
  },
  {
   "cell_type": "code",
   "execution_count": 50,
   "metadata": {},
   "outputs": [
    {
     "name": "stdout",
     "output_type": "stream",
     "text": [
      "1 272052 0.01225898574119883\n",
      "2 3501830 0.15779661255238814\n",
      "3 9058066 0.4081671957450705\n",
      "4 4090146 0.18430682918494048\n",
      "5 4481730 0.20195206859682352\n",
      "6 784014 0.03532860058702108\n",
      "7 4210 0.00018970759255747824\n"
     ]
    }
   ],
   "source": [
    "c = Counter(a_chapters)\n",
    "for i in range(1, 8):\n",
    "    print(i, c[i], c[i]/len(a_chapters))"
   ]
  },
  {
   "cell_type": "code",
   "execution_count": 58,
   "metadata": {},
   "outputs": [
    {
     "data": {
      "image/png": "[encoded data removed]",
      "text/plain": [
       "<Figure size 432x288 with 1 Axes>"
      ]
     },
     "metadata": {
      "needs_background": "light"
     },
     "output_type": "display_data"
    }
   ],
   "source": [
    "sns.distplot(b_chapters)\n",
    "plt.xlabel(\"Chapter level of entities\")\n",
    "plt.ylabel(\"PDF (entities)\")\n",
    "plt.title(\"Medcat on MIMIC\")\n",
    "plt.show()"
   ]
  },
  {
   "cell_type": "code",
   "execution_count": 51,
   "metadata": {},
   "outputs": [
    {
     "name": "stdout",
     "output_type": "stream",
     "text": [
      "1 662919 0.021306254178609107\n",
      "2 5986285 0.1923995387001957\n",
      "3 14643883 0.47065522840620483\n",
      "4 4469441 0.1436480866927888\n",
      "5 4362863 0.14022266374089304\n",
      "6 988393 0.03176700695915789\n",
      "7 38 1.2213221506506015e-06\n"
     ]
    }
   ],
   "source": [
    "c = Counter(b_chapters)\n",
    "for i in range(1, 8):\n",
    "    print(i, c[i], c[i]/len(b_chapters))"
   ]
  },
  {
   "cell_type": "markdown",
   "metadata": {},
   "source": [
    "#### Scispacy produces more fine grained concepts than Medcat"
   ]
  },
  {
   "cell_type": "code",
   "execution_count": 55,
   "metadata": {},
   "outputs": [
    {
     "data": {
      "image/png": "[encoded data removed]",
      "text/plain": [
       "<Figure size 432x288 with 1 Axes>"
      ]
     },
     "metadata": {
      "needs_background": "light"
     },
     "output_type": "display_data"
    }
   ],
   "source": [
    "sns.distplot(a_counts)\n",
    "plt.xlabel(\"Number of entities in a single sentence\")\n",
    "plt.ylabel(\"PDF (sentences)\")\n",
    "plt.title(\"Scispacy on MIMIC\")\n",
    "plt.show()"
   ]
  },
  {
   "cell_type": "code",
   "execution_count": 33,
   "metadata": {},
   "outputs": [
    {
     "data": {
      "text/plain": [
       "DescribeResult(nobs=5322252, minmax=(1, 315), mean=4.169672537113988, variance=23.177535766743144, skewness=7.137712520076788, kurtosis=101.30446871524101)"
      ]
     },
     "execution_count": 33,
     "metadata": {},
     "output_type": "execute_result"
    }
   ],
   "source": [
    "stats.describe(a_counts)"
   ]
  },
  {
   "cell_type": "code",
   "execution_count": 56,
   "metadata": {},
   "outputs": [
    {
     "data": {
      "image/png": "[encoded data removed]",
      "text/plain": [
       "<Figure size 432x288 with 1 Axes>"
      ]
     },
     "metadata": {
      "needs_background": "light"
     },
     "output_type": "display_data"
    }
   ],
   "source": [
    "sns.distplot(b_counts)\n",
    "plt.xlabel(\"Number of entities in a single sentence\")\n",
    "plt.ylabel(\"PDF (sentences)\")\n",
    "plt.title(\"Medcat on MIMIC\")\n",
    "plt.show()"
   ]
  },
  {
   "cell_type": "code",
   "execution_count": 35,
   "metadata": {},
   "outputs": [
    {
     "data": {
      "text/plain": [
       "DescribeResult(nobs=8754186, minmax=(1, 160), mean=3.5541650588644105, variance=11.60929167019811, skewness=4.334075299061011, kurtosis=44.70064103162898)"
      ]
     },
     "execution_count": 35,
     "metadata": {},
     "output_type": "execute_result"
    }
   ],
   "source": [
    "stats.describe(b_counts)"
   ]
  },
  {
   "cell_type": "markdown",
   "metadata": {},
   "source": [
    "#### Scispacy produces a larger number of annotations than Medcat. A possible reason is that Medcat use the longest string match in choosing concept candidates"
   ]
  },
  {
   "cell_type": "markdown",
   "metadata": {},
   "source": [
    "### Some sentences contain too many concepts. Following Mintz's paper, only focus on setences contaning two entities in training data but consider all pairs of entities in test data. The training data will tend to be short sentences. "
   ]
  },
  {
   "cell_type": "markdown",
   "metadata": {},
   "source": [
    "### Scispacy does not allow to choose a subset of voc. "
   ]
  },
  {
   "cell_type": "code",
   "execution_count": 46,
   "metadata": {},
   "outputs": [],
   "source": [
    "def screen_sentences(path, output_file):\n",
    "    with open(output_file, 'w') as fw:\n",
    "        for index in range(1000):\n",
    "            file_name = 'batch' + str(index) + '.json'\n",
    "\n",
    "            docs = json.load(open(path+file_name, 'r'))\n",
    "\n",
    "            for did in docs.keys():\n",
    "                if int(did) in discharg_dids:\n",
    "#                 if True:\n",
    "                    sents = docs[did]\n",
    "                    for sid in sents.keys():\n",
    "                        sent = sents[sid]\n",
    "                        text = sent['sent_text']\n",
    "                        annots = sent['sent_annots']\n",
    "                        # If include all sentence with any number of annotations. it ends with a super large file\n",
    "                        # Select centain types of annotations to focus.  \n",
    "                        if len(annots) == 2:\n",
    "                            for ai, aj in combinations(annots, 2):\n",
    "                                ai_cui, aj_cui = ai['cui'], aj['cui']\n",
    "                                es = {}\n",
    "                                ei = {\"id\": ai_cui, \"name\": ai['text'], \"pos\": [ai['start_char'], ai['end_char']]}\n",
    "                                ej = {\"id\": aj_cui, \"name\": aj['text'], \"pos\": [aj['start_char'], aj['end_char']]}\n",
    "\n",
    "                                min_cui, max_cui = ai_cui, aj_cui\n",
    "                                es[min_cui] = ei\n",
    "                                es[max_cui] = ej\n",
    "                                if ai_cui > aj_cui:\n",
    "                                    min_cui, max_cui = aj_cui, ai_cui\n",
    "                                    es[min_cui] = ej\n",
    "                                    es[max_cui] = ei\n",
    "\n",
    "                                cui_key = min_cui + '-' + max_cui\n",
    "        #                                 rel = 'NA'\n",
    "        #                                 dire = 'Y'\n",
    "        #                             Too many combination of entity pairs in a sentence. So two many NA negative samples \n",
    "        # Also, a sentence can have multiple instances, which \n",
    "                                if cui_key in rels:\n",
    "                                    rel = rels[cui_key]['rela']\n",
    "                                    dire = rels[cui_key]['dir']\n",
    "                                    if dire == 'Y':\n",
    "                                        head, tail = es[min_cui], es[max_cui]\n",
    "                                    else:\n",
    "                                        tail, head = es[min_cui], es[max_cui]\n",
    "                                    fw.write(str({'text': text, 'relation': rel, 'h': head, 't': tail}) + '\\n')\n"
   ]
  },
  {
   "cell_type": "code",
   "execution_count": null,
   "metadata": {},
   "outputs": [],
   "source": []
  },
  {
   "cell_type": "code",
   "execution_count": null,
   "metadata": {},
   "outputs": [],
   "source": []
  },
  {
   "cell_type": "code",
   "execution_count": null,
   "metadata": {},
   "outputs": [],
   "source": []
  },
  {
   "cell_type": "code",
   "execution_count": 48,
   "metadata": {},
   "outputs": [],
   "source": [
    "screen_sentences(apath, '/users/k1810895/data/KER/data/scispacy_sentences.txt')"
   ]
  },
  {
   "cell_type": "code",
   "execution_count": 49,
   "metadata": {},
   "outputs": [],
   "source": [
    "screen_sentences(bpath, '/users/k1810895/data/KER/data/medcat_sentences.txt')"
   ]
  },
  {
   "cell_type": "markdown",
   "metadata": {},
   "source": [
    "#### There are 59345 relevant positive sentences from scispacy annotations. and 129748 relevant positive sentences from medcat annotations. "
   ]
  },
  {
   "cell_type": "code",
   "execution_count": null,
   "metadata": {},
   "outputs": [],
   "source": []
  },
  {
   "cell_type": "markdown",
   "metadata": {},
   "source": [
    "The formatt {\"text\": \"Directed by Andrei Zagdansky Not rated ; 72 minutes In the documentary '' Orange Winter '' orange blooms throughout Kiev , Ukraine , the epicenter of dissent over that country 's stolen 2004 presidential elections .\", \"relation\": \"/location/country/capital\", \"h\": {\"id\": \"m.07t21\", \"name\": \"Ukraine\", \"pos\": [123, 130]}, \"t\": {\"id\": \"m.02sn34\", \"name\": \"Kiev\", \"pos\": [116, 120]}}"
   ]
  },
  {
   "cell_type": "code",
   "execution_count": null,
   "metadata": {},
   "outputs": [],
   "source": []
  },
  {
   "cell_type": "markdown",
   "metadata": {},
   "source": [
    "## Negation relations"
   ]
  },
  {
   "cell_type": "markdown",
   "metadata": {},
   "source": [
    "Rule-based method: https://github.com/lhncbc/SemRep \n"
   ]
  },
  {
   "cell_type": "code",
   "execution_count": null,
   "metadata": {},
   "outputs": [],
   "source": []
  }
 ],
 "metadata": {
  "kernelspec": {
   "display_name": "py3",
   "language": "python",
   "name": "py3"
  },
  "language_info": {
   "codemirror_mode": {
    "name": "ipython",
    "version": 3
   },
   "file_extension": ".py",
   "mimetype": "text/x-python",
   "name": "python",
   "nbconvert_exporter": "python",
   "pygments_lexer": "ipython3",
   "version": "3.7.6"
  }
 },
 "nbformat": 4,
 "nbformat_minor": 4
}
