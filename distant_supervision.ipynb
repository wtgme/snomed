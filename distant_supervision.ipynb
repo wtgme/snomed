{
 "cells": [
  {
   "cell_type": "code",
   "execution_count": null,
   "metadata": {},
   "outputs": [],
   "source": [
    "# !pip uninstall scispacy "
   ]
  },
  {
   "cell_type": "code",
   "execution_count": 4,
   "metadata": {},
   "outputs": [],
   "source": [
    "# !pip install scispacy"
   ]
  },
  {
   "cell_type": "code",
   "execution_count": 3,
   "metadata": {},
   "outputs": [],
   "source": [
    "import scispacy\n",
    "import spacy\n",
    "import pandas as pd\n",
    "import sys\n",
    "from datetime import datetime "
   ]
  },
  {
   "cell_type": "code",
   "execution_count": 2,
   "metadata": {},
   "outputs": [],
   "source": [
    "# nlp = spacy.load(\"en_core_sci_scibert\")"
   ]
  },
  {
   "cell_type": "code",
   "execution_count": 3,
   "metadata": {},
   "outputs": [],
   "source": [
    "# notes = pd.read_csv(\"/users/k1810895/data/KER/data/mimic_notes.csv\")"
   ]
  },
  {
   "cell_type": "code",
   "execution_count": 4,
   "metadata": {},
   "outputs": [],
   "source": [
    "# text = '''This is a 55 y/o M, with H/O Hep C ( presumed from blood transfusions\n",
    "#    s/p 3 rd degree burns in an industrial accident in [**2111**]), with known\n",
    "#    h/o varices who presented on [**3-26**]^th [**2144**] , with abdominal\n",
    "#    distension,jaundice & found to have spontaneous bacterial peritonitis,\n",
    "#    was admitted to [**Hospital Ward Name 383**] 10.\n",
    "#    Change in mentation noted throughout the day, missed his lactulose dose\n",
    "#    [**12-21**] to altered mental status unable to drink safely with risk of\n",
    "#    aspiration, creatinine found to be 8.0 ( Baseline 0.8), BUN in 100\n",
    "#    HD catheter with VIPort inserted & transferred to MICU 6 for further\n",
    "#    management.\n",
    "#    Events :\n",
    "#    Patient dialyzed from [**2165**] hrs to 2230 hrs with only 500 mls fluid\n",
    "#    removal [**12-21**] to Low BP during dialysis.\n",
    "#    IV Albumin 100 grams given as per orders.\n",
    "#    NGT inserted , had minimal bleeding during insertion. (INR 3.7 in am\n",
    "#    lab- had received 4 units of FFP from [**Wardname **]). Had coffee ground NG\n",
    "#    aspirate , connected to low intermittent suction until cleared. Due\n",
    "#    dose of Lactulose given.\n",
    "#    Hepatorenal syndrome\n",
    "#    Assessment:\n",
    "#    Patient is Anuric since am of [**2145-4-1**] as per report received from [**Hospital Ward Name 383**]\n",
    "#    10. Labs drawb prior to Hemodialysis, Please see metavision for lab\n",
    "#    values.\n",
    "#    Action:\n",
    "#    Patient had Hemodialysis done for 2 hours with 500 mls fluid removal\n",
    "#    for the first time.\n",
    "#    Response:\n",
    "#    Renal function continues to be deranged in am labs, continues to be\n",
    "#    anuric.\n",
    "#    Plan:\n",
    "#    Continue monitoring labs, To follow up on next HD\n",
    "#    Electrolyte & fluid disorder, other\n",
    "#    Assessment:\n",
    "#    Action:\n",
    "#    Response:\n",
    "#    Plan:\n",
    "#    Altered mental status (not Delirium)\n",
    "#    Assessment:\n",
    "#    Action:\n",
    "#    Response:\n",
    "#    Plan:\n",
    "#    Hematemesis (upper GI bleed, UGIB)\n",
    "#    Assessment:\n",
    "#    Action:\n",
    "#    Response:\n",
    "#    Plan:\n",
    "#    Bradycardia\n",
    "#    Assessment:\n",
    "#    Action:\n",
    "#    Response:\n",
    "#    Plan:\n",
    "#    Hypotension (not Shock)\n",
    "#    Assessment:\n",
    "#    Action:\n",
    "#    Response:\n",
    "#    Plan:\n",
    "# '''\n",
    "# tokens = nlp(text)\n",
    "\n",
    "# for sent in tokens.sents:\n",
    "#     print(sent.text, sent.start_char, sent.end_char, sent.start, sent.end)"
   ]
  },
  {
   "cell_type": "markdown",
   "metadata": {},
   "source": [
    "#### The formatt {\"text\": \"Directed by Andrei Zagdansky Not rated ; 72 minutes In the documentary '' Orange Winter '' orange blooms throughout Kiev , Ukraine , the epicenter of dissent over that country 's stolen 2004 presidential elections .\", \"relation\": \"/location/country/capital\", \"h\": {\"id\": \"m.07t21\", \"name\": \"Ukraine\", \"pos\": [123, 130]}, \"t\": {\"id\": \"m.02sn34\", \"name\": \"Kiev\", \"pos\": [116, 120]}}"
   ]
  },
  {
   "cell_type": "markdown",
   "metadata": {},
   "source": [
    "## Identify concepts from sentences"
   ]
  },
  {
   "cell_type": "markdown",
   "metadata": {},
   "source": [
    "All text are annoated with UMLS CUIs. Go through each sentence and find CUIs in each sentence. If a pair of CUIs have a relation defined in UMLS, label it as a positive sample.\n",
    "\n",
    "Cannot go through local json outputs, since json files with the same ids may not contain the same set of documents. Need to load all the data to search, which is too big. \n",
    "\n",
    "Medcat does not provide sentence split cutoff in the results. So cannot get sentence infor in annotations. Scispacy provides such information. \n",
    "\n",
    "So:\n",
    "1. Use sentence_seg.sh split documents into sentences. \n",
    "2. All annotations have been ingested to ES, which allows query, on openstack. \n",
    "3. Go through each sentences resulted from sentence_seg.sh and collect all annotations in the same sentence. \n",
    "4. Obtain positive and negative samples from openstack instead of hpc. \n",
    "\n",
    "\n",
    "The above process is too complicated. So using NLTK to split sentences and input the annotator to get annotations. \n",
    "using *_sentences.sh job scripts. \n",
    "\n",
    "Using NLTK is very slow and the outputs from NLTK sentence splitters are different from those from spacy. Finally, rewrite the parser for Medcat output and use the \"sentence\" object in the scispacy output to produce sentence-level annotations. \n"
   ]
  },
  {
   "cell_type": "code",
   "execution_count": null,
   "metadata": {},
   "outputs": [],
   "source": []
  },
  {
   "cell_type": "markdown",
   "metadata": {},
   "source": [
    "## Enumerate all combinations of entity pairs in sentences"
   ]
  },
  {
   "cell_type": "code",
   "execution_count": 19,
   "metadata": {},
   "outputs": [],
   "source": [
    "import pandas as pd\n",
    "import numpy as np\n",
    "import seaborn as sns\n",
    "import matplotlib.pyplot as plt\n",
    "import pickle\n",
    "import json\n",
    "from itertools import combinations\n",
    "from scipy import stats\n",
    "from collections import Counter"
   ]
  },
  {
   "cell_type": "code",
   "execution_count": 6,
   "metadata": {},
   "outputs": [],
   "source": [
    "# rels = json.load(open('data/rel_map.json', 'r'))"
   ]
  },
  {
   "cell_type": "code",
   "execution_count": 7,
   "metadata": {},
   "outputs": [],
   "source": [
    "# list(rels.items())[:3]"
   ]
  },
  {
   "cell_type": "code",
   "execution_count": 8,
   "metadata": {},
   "outputs": [],
   "source": [
    "# notes.head()"
   ]
  },
  {
   "cell_type": "markdown",
   "metadata": {},
   "source": [
    "## Examine semantic relations"
   ]
  },
  {
   "cell_type": "markdown",
   "metadata": {},
   "source": [
    "### Definition of semantic types\n",
    "\n",
    "https://uts.nlm.nih.gov/uts/umls/semantic-network/T187"
   ]
  },
  {
   "cell_type": "code",
   "execution_count": 57,
   "metadata": {},
   "outputs": [],
   "source": [
    "stypes = pd.read_csv('data/semantic_types_definitions.csv')"
   ]
  },
  {
   "cell_type": "code",
   "execution_count": 58,
   "metadata": {},
   "outputs": [
    {
     "data": {
      "text/html": [
       "<div>\n",
       "<style scoped>\n",
       "    .dataframe tbody tr th:only-of-type {\n",
       "        vertical-align: middle;\n",
       "    }\n",
       "\n",
       "    .dataframe tbody tr th {\n",
       "        vertical-align: top;\n",
       "    }\n",
       "\n",
       "    .dataframe thead th {\n",
       "        text-align: right;\n",
       "    }\n",
       "</style>\n",
       "<table border=\"1\" class=\"dataframe\">\n",
       "  <thead>\n",
       "    <tr style=\"text-align: right;\">\n",
       "      <th></th>\n",
       "      <th>RT</th>\n",
       "      <th>UI</th>\n",
       "      <th>STY_RL</th>\n",
       "      <th>STN_RTN</th>\n",
       "      <th>DEF</th>\n",
       "      <th>EX</th>\n",
       "      <th>UN</th>\n",
       "      <th>NH</th>\n",
       "      <th>ABR</th>\n",
       "      <th>RIN</th>\n",
       "    </tr>\n",
       "  </thead>\n",
       "  <tbody>\n",
       "    <tr>\n",
       "      <th>0</th>\n",
       "      <td>STY</td>\n",
       "      <td>T001</td>\n",
       "      <td>Organism</td>\n",
       "      <td>A1.1</td>\n",
       "      <td>Generally, a living individual, including all ...</td>\n",
       "      <td>NaN</td>\n",
       "      <td>NaN</td>\n",
       "      <td>NaN</td>\n",
       "      <td>orgm</td>\n",
       "      <td>NaN</td>\n",
       "    </tr>\n",
       "    <tr>\n",
       "      <th>1</th>\n",
       "      <td>STY</td>\n",
       "      <td>T002</td>\n",
       "      <td>Plant</td>\n",
       "      <td>A1.1.3.3</td>\n",
       "      <td>An organism having cellulose cell walls, growi...</td>\n",
       "      <td>NaN</td>\n",
       "      <td>NaN</td>\n",
       "      <td>NaN</td>\n",
       "      <td>plnt</td>\n",
       "      <td>NaN</td>\n",
       "    </tr>\n",
       "    <tr>\n",
       "      <th>2</th>\n",
       "      <td>STY</td>\n",
       "      <td>T004</td>\n",
       "      <td>Fungus</td>\n",
       "      <td>A1.1.3.2</td>\n",
       "      <td>A eukaryotic organism characterized by the abs...</td>\n",
       "      <td>NaN</td>\n",
       "      <td>NaN</td>\n",
       "      <td>NaN</td>\n",
       "      <td>fngs</td>\n",
       "      <td>NaN</td>\n",
       "    </tr>\n",
       "    <tr>\n",
       "      <th>3</th>\n",
       "      <td>STY</td>\n",
       "      <td>T005</td>\n",
       "      <td>Virus</td>\n",
       "      <td>A1.1.4</td>\n",
       "      <td>An organism consisting of a core of a single n...</td>\n",
       "      <td>NaN</td>\n",
       "      <td>NaN</td>\n",
       "      <td>NaN</td>\n",
       "      <td>virs</td>\n",
       "      <td>NaN</td>\n",
       "    </tr>\n",
       "    <tr>\n",
       "      <th>4</th>\n",
       "      <td>STY</td>\n",
       "      <td>T007</td>\n",
       "      <td>Bacterium</td>\n",
       "      <td>A1.1.2</td>\n",
       "      <td>A small, typically one-celled, prokaryotic mic...</td>\n",
       "      <td>NaN</td>\n",
       "      <td>NaN</td>\n",
       "      <td>NaN</td>\n",
       "      <td>bact</td>\n",
       "      <td>NaN</td>\n",
       "    </tr>\n",
       "  </tbody>\n",
       "</table>\n",
       "</div>"
      ],
      "text/plain": [
       "    RT    UI     STY_RL   STN_RTN  \\\n",
       "0  STY  T001   Organism      A1.1   \n",
       "1  STY  T002      Plant  A1.1.3.3   \n",
       "2  STY  T004     Fungus  A1.1.3.2   \n",
       "3  STY  T005      Virus    A1.1.4   \n",
       "4  STY  T007  Bacterium    A1.1.2   \n",
       "\n",
       "                                                 DEF  EX   UN   NH   ABR  RIN  \n",
       "0  Generally, a living individual, including all ... NaN  NaN  NaN  orgm  NaN  \n",
       "1  An organism having cellulose cell walls, growi... NaN  NaN  NaN  plnt  NaN  \n",
       "2  A eukaryotic organism characterized by the abs... NaN  NaN  NaN  fngs  NaN  \n",
       "3  An organism consisting of a core of a single n... NaN  NaN  NaN  virs  NaN  \n",
       "4  A small, typically one-celled, prokaryotic mic... NaN  NaN  NaN  bact  NaN  "
      ]
     },
     "execution_count": 58,
     "metadata": {},
     "output_type": "execute_result"
    }
   ],
   "source": [
    "stypes.head()"
   ]
  },
  {
   "cell_type": "markdown",
   "metadata": {},
   "source": [
    "### Relations used in SemRep"
   ]
  },
  {
   "cell_type": "code",
   "execution_count": 59,
   "metadata": {},
   "outputs": [],
   "source": [
    "data = []\n",
    "with open('data/semRep-ontology.txt') as fo:\n",
    "    for line in fo.readlines():\n",
    "        if line.startswith('UMLS'):\n",
    "            data.append(line.strip().split('|')[-1].split('-'))\n",
    "ont = pd.DataFrame(data, columns=['STY1', 'RL', 'STY2'])"
   ]
  },
  {
   "cell_type": "code",
   "execution_count": 60,
   "metadata": {},
   "outputs": [],
   "source": [
    "abr2tui = name2tui = pd.Series(stypes.UI.values,index=stypes.ABR).to_dict()\n",
    "ont['STY1_TUI'] = ont['STY1'].map(abr2tui)\n",
    "ont['STY2_TUI'] = ont['STY2'].map(abr2tui)"
   ]
  },
  {
   "cell_type": "code",
   "execution_count": 61,
   "metadata": {},
   "outputs": [
    {
     "data": {
      "text/html": [
       "<div>\n",
       "<style scoped>\n",
       "    .dataframe tbody tr th:only-of-type {\n",
       "        vertical-align: middle;\n",
       "    }\n",
       "\n",
       "    .dataframe tbody tr th {\n",
       "        vertical-align: top;\n",
       "    }\n",
       "\n",
       "    .dataframe thead th {\n",
       "        text-align: right;\n",
       "    }\n",
       "</style>\n",
       "<table border=\"1\" class=\"dataframe\">\n",
       "  <thead>\n",
       "    <tr style=\"text-align: right;\">\n",
       "      <th></th>\n",
       "      <th>STY1</th>\n",
       "      <th>RL</th>\n",
       "      <th>STY2</th>\n",
       "      <th>STY1_TUI</th>\n",
       "      <th>STY2_TUI</th>\n",
       "    </tr>\n",
       "  </thead>\n",
       "  <tbody>\n",
       "    <tr>\n",
       "      <th>1827</th>\n",
       "      <td>orch</td>\n",
       "      <td>interacts_with</td>\n",
       "      <td>rcpt</td>\n",
       "      <td>T109</td>\n",
       "      <td>T192</td>\n",
       "    </tr>\n",
       "    <tr>\n",
       "      <th>2464</th>\n",
       "      <td>anst</td>\n",
       "      <td>part_of</td>\n",
       "      <td>orgm</td>\n",
       "      <td>T017</td>\n",
       "      <td>T001</td>\n",
       "    </tr>\n",
       "    <tr>\n",
       "      <th>1173</th>\n",
       "      <td>enzy</td>\n",
       "      <td>complicates</td>\n",
       "      <td>patf</td>\n",
       "      <td>T126</td>\n",
       "      <td>T046</td>\n",
       "    </tr>\n",
       "    <tr>\n",
       "      <th>2212</th>\n",
       "      <td>diap</td>\n",
       "      <td>measures</td>\n",
       "      <td>bdsu</td>\n",
       "      <td>T060</td>\n",
       "      <td>T031</td>\n",
       "    </tr>\n",
       "    <tr>\n",
       "      <th>272</th>\n",
       "      <td>emod</td>\n",
       "      <td>affects</td>\n",
       "      <td>arch</td>\n",
       "      <td>T050</td>\n",
       "      <td>T194</td>\n",
       "    </tr>\n",
       "    <tr>\n",
       "      <th>2595</th>\n",
       "      <td>celf</td>\n",
       "      <td>precedes</td>\n",
       "      <td>ortf</td>\n",
       "      <td>T043</td>\n",
       "      <td>T042</td>\n",
       "    </tr>\n",
       "    <tr>\n",
       "      <th>1408</th>\n",
       "      <td>horm</td>\n",
       "      <td>disrupts</td>\n",
       "      <td>phsf</td>\n",
       "      <td>T125</td>\n",
       "      <td>T039</td>\n",
       "    </tr>\n",
       "    <tr>\n",
       "      <th>184</th>\n",
       "      <td>chvs</td>\n",
       "      <td>affects</td>\n",
       "      <td>dsyn</td>\n",
       "      <td>T104</td>\n",
       "      <td>T047</td>\n",
       "    </tr>\n",
       "    <tr>\n",
       "      <th>706</th>\n",
       "      <td>bacs</td>\n",
       "      <td>causes</td>\n",
       "      <td>anab</td>\n",
       "      <td>T123</td>\n",
       "      <td>T190</td>\n",
       "    </tr>\n",
       "    <tr>\n",
       "      <th>156</th>\n",
       "      <td>cgab</td>\n",
       "      <td>affects</td>\n",
       "      <td>orgf</td>\n",
       "      <td>T019</td>\n",
       "      <td>T040</td>\n",
       "    </tr>\n",
       "  </tbody>\n",
       "</table>\n",
       "</div>"
      ],
      "text/plain": [
       "      STY1              RL  STY2 STY1_TUI STY2_TUI\n",
       "1827  orch  interacts_with  rcpt     T109     T192\n",
       "2464  anst         part_of  orgm     T017     T001\n",
       "1173  enzy     complicates  patf     T126     T046\n",
       "2212  diap        measures  bdsu     T060     T031\n",
       "272   emod         affects  arch     T050     T194\n",
       "2595  celf        precedes  ortf     T043     T042\n",
       "1408  horm        disrupts  phsf     T125     T039\n",
       "184   chvs         affects  dsyn     T104     T047\n",
       "706   bacs          causes  anab     T123     T190\n",
       "156   cgab         affects  orgf     T019     T040"
      ]
     },
     "execution_count": 61,
     "metadata": {},
     "output_type": "execute_result"
    }
   ],
   "source": [
    "ont.sample(10)"
   ]
  },
  {
   "cell_type": "code",
   "execution_count": 62,
   "metadata": {},
   "outputs": [],
   "source": [
    "ont['pair'] = ont[['STY1_TUI', 'STY2_TUI']].apply(lambda x : '{}-{}'.format(x[0],x[1]) if str(x[0])<str(x[1]) else '{}-{}'.format(x[1],x[0]), axis=1)"
   ]
  },
  {
   "cell_type": "code",
   "execution_count": 63,
   "metadata": {},
   "outputs": [],
   "source": [
    "# ont[ont['RL']=='treats']"
   ]
  },
  {
   "cell_type": "markdown",
   "metadata": {},
   "source": [
    "### Read semantic networks"
   ]
  },
  {
   "cell_type": "code",
   "execution_count": 64,
   "metadata": {},
   "outputs": [],
   "source": [
    "snet = pd.read_csv('data/semantic_networks.csv')"
   ]
  },
  {
   "cell_type": "code",
   "execution_count": 65,
   "metadata": {},
   "outputs": [],
   "source": [
    "# set(snet['RL'])"
   ]
  },
  {
   "cell_type": "code",
   "execution_count": 66,
   "metadata": {},
   "outputs": [],
   "source": [
    "name2tui = pd.Series(stypes.UI.values,index=stypes.STY_RL).to_dict()"
   ]
  },
  {
   "cell_type": "code",
   "execution_count": 67,
   "metadata": {},
   "outputs": [],
   "source": [
    "snet['STY1_TUI'] = snet['STY1'].map(name2tui)\n",
    "snet['STY2_TUI'] = snet['STY2'].map(name2tui)"
   ]
  },
  {
   "cell_type": "code",
   "execution_count": 69,
   "metadata": {},
   "outputs": [
    {
     "data": {
      "text/html": [
       "<div>\n",
       "<style scoped>\n",
       "    .dataframe tbody tr th:only-of-type {\n",
       "        vertical-align: middle;\n",
       "    }\n",
       "\n",
       "    .dataframe tbody tr th {\n",
       "        vertical-align: top;\n",
       "    }\n",
       "\n",
       "    .dataframe thead th {\n",
       "        text-align: right;\n",
       "    }\n",
       "</style>\n",
       "<table border=\"1\" class=\"dataframe\">\n",
       "  <thead>\n",
       "    <tr style=\"text-align: right;\">\n",
       "      <th></th>\n",
       "      <th>RT</th>\n",
       "      <th>UI</th>\n",
       "      <th>STY_RL</th>\n",
       "      <th>STN_RTN</th>\n",
       "      <th>DEF</th>\n",
       "      <th>EX</th>\n",
       "      <th>UN</th>\n",
       "      <th>NH</th>\n",
       "      <th>ABR</th>\n",
       "      <th>RIN</th>\n",
       "    </tr>\n",
       "  </thead>\n",
       "  <tbody>\n",
       "    <tr>\n",
       "      <th>0</th>\n",
       "      <td>STY</td>\n",
       "      <td>T001</td>\n",
       "      <td>Organism</td>\n",
       "      <td>A1.1</td>\n",
       "      <td>Generally, a living individual, including all ...</td>\n",
       "      <td>NaN</td>\n",
       "      <td>NaN</td>\n",
       "      <td>NaN</td>\n",
       "      <td>orgm</td>\n",
       "      <td>NaN</td>\n",
       "    </tr>\n",
       "    <tr>\n",
       "      <th>1</th>\n",
       "      <td>STY</td>\n",
       "      <td>T002</td>\n",
       "      <td>Plant</td>\n",
       "      <td>A1.1.3.3</td>\n",
       "      <td>An organism having cellulose cell walls, growi...</td>\n",
       "      <td>NaN</td>\n",
       "      <td>NaN</td>\n",
       "      <td>NaN</td>\n",
       "      <td>plnt</td>\n",
       "      <td>NaN</td>\n",
       "    </tr>\n",
       "    <tr>\n",
       "      <th>2</th>\n",
       "      <td>STY</td>\n",
       "      <td>T004</td>\n",
       "      <td>Fungus</td>\n",
       "      <td>A1.1.3.2</td>\n",
       "      <td>A eukaryotic organism characterized by the abs...</td>\n",
       "      <td>NaN</td>\n",
       "      <td>NaN</td>\n",
       "      <td>NaN</td>\n",
       "      <td>fngs</td>\n",
       "      <td>NaN</td>\n",
       "    </tr>\n",
       "    <tr>\n",
       "      <th>3</th>\n",
       "      <td>STY</td>\n",
       "      <td>T005</td>\n",
       "      <td>Virus</td>\n",
       "      <td>A1.1.4</td>\n",
       "      <td>An organism consisting of a core of a single n...</td>\n",
       "      <td>NaN</td>\n",
       "      <td>NaN</td>\n",
       "      <td>NaN</td>\n",
       "      <td>virs</td>\n",
       "      <td>NaN</td>\n",
       "    </tr>\n",
       "    <tr>\n",
       "      <th>4</th>\n",
       "      <td>STY</td>\n",
       "      <td>T007</td>\n",
       "      <td>Bacterium</td>\n",
       "      <td>A1.1.2</td>\n",
       "      <td>A small, typically one-celled, prokaryotic mic...</td>\n",
       "      <td>NaN</td>\n",
       "      <td>NaN</td>\n",
       "      <td>NaN</td>\n",
       "      <td>bact</td>\n",
       "      <td>NaN</td>\n",
       "    </tr>\n",
       "    <tr>\n",
       "      <th>...</th>\n",
       "      <td>...</td>\n",
       "      <td>...</td>\n",
       "      <td>...</td>\n",
       "      <td>...</td>\n",
       "      <td>...</td>\n",
       "      <td>...</td>\n",
       "      <td>...</td>\n",
       "      <td>...</td>\n",
       "      <td>...</td>\n",
       "      <td>...</td>\n",
       "    </tr>\n",
       "    <tr>\n",
       "      <th>176</th>\n",
       "      <td>RL</td>\n",
       "      <td>T189</td>\n",
       "      <td>spatially_related_to</td>\n",
       "      <td>R2</td>\n",
       "      <td>Related by place or region.</td>\n",
       "      <td>NaN</td>\n",
       "      <td>NaN</td>\n",
       "      <td>NaN</td>\n",
       "      <td>SP</td>\n",
       "      <td>spatially_related_to</td>\n",
       "    </tr>\n",
       "    <tr>\n",
       "      <th>177</th>\n",
       "      <td>RL</td>\n",
       "      <td>T193</td>\n",
       "      <td>analyzes</td>\n",
       "      <td>R5.3</td>\n",
       "      <td>Studies or examines using established quantita...</td>\n",
       "      <td>NaN</td>\n",
       "      <td>NaN</td>\n",
       "      <td>NaN</td>\n",
       "      <td>AN</td>\n",
       "      <td>analyzed_by</td>\n",
       "    </tr>\n",
       "    <tr>\n",
       "      <th>178</th>\n",
       "      <td>RL</td>\n",
       "      <td>T198</td>\n",
       "      <td>branch_of</td>\n",
       "      <td>R1.6</td>\n",
       "      <td>Arises from the division of. For example, the ...</td>\n",
       "      <td>NaN</td>\n",
       "      <td>NaN</td>\n",
       "      <td>NaN</td>\n",
       "      <td>BR</td>\n",
       "      <td>has_branch</td>\n",
       "    </tr>\n",
       "    <tr>\n",
       "      <th>179</th>\n",
       "      <td>RL</td>\n",
       "      <td>T199</td>\n",
       "      <td>tributary_of</td>\n",
       "      <td>R1.7</td>\n",
       "      <td>Merges with. For example, the confluence of ve...</td>\n",
       "      <td>NaN</td>\n",
       "      <td>NaN</td>\n",
       "      <td>NaN</td>\n",
       "      <td>TB</td>\n",
       "      <td>has_tributary</td>\n",
       "    </tr>\n",
       "    <tr>\n",
       "      <th>180</th>\n",
       "      <td>RL</td>\n",
       "      <td>T202</td>\n",
       "      <td>ingredient_of</td>\n",
       "      <td>R1.8</td>\n",
       "      <td>Is a component of, as in a constituent of a pr...</td>\n",
       "      <td>NaN</td>\n",
       "      <td>NaN</td>\n",
       "      <td>NaN</td>\n",
       "      <td>IG</td>\n",
       "      <td>has_ingredient</td>\n",
       "    </tr>\n",
       "  </tbody>\n",
       "</table>\n",
       "<p>181 rows × 10 columns</p>\n",
       "</div>"
      ],
      "text/plain": [
       "      RT    UI                STY_RL   STN_RTN  \\\n",
       "0    STY  T001              Organism      A1.1   \n",
       "1    STY  T002                 Plant  A1.1.3.3   \n",
       "2    STY  T004                Fungus  A1.1.3.2   \n",
       "3    STY  T005                 Virus    A1.1.4   \n",
       "4    STY  T007             Bacterium    A1.1.2   \n",
       "..   ...   ...                   ...       ...   \n",
       "176   RL  T189  spatially_related_to        R2   \n",
       "177   RL  T193              analyzes      R5.3   \n",
       "178   RL  T198             branch_of      R1.6   \n",
       "179   RL  T199          tributary_of      R1.7   \n",
       "180   RL  T202         ingredient_of      R1.8   \n",
       "\n",
       "                                                   DEF  EX   UN   NH   ABR  \\\n",
       "0    Generally, a living individual, including all ... NaN  NaN  NaN  orgm   \n",
       "1    An organism having cellulose cell walls, growi... NaN  NaN  NaN  plnt   \n",
       "2    A eukaryotic organism characterized by the abs... NaN  NaN  NaN  fngs   \n",
       "3    An organism consisting of a core of a single n... NaN  NaN  NaN  virs   \n",
       "4    A small, typically one-celled, prokaryotic mic... NaN  NaN  NaN  bact   \n",
       "..                                                 ...  ..  ...  ...   ...   \n",
       "176                        Related by place or region. NaN  NaN  NaN    SP   \n",
       "177  Studies or examines using established quantita... NaN  NaN  NaN    AN   \n",
       "178  Arises from the division of. For example, the ... NaN  NaN  NaN    BR   \n",
       "179  Merges with. For example, the confluence of ve... NaN  NaN  NaN    TB   \n",
       "180  Is a component of, as in a constituent of a pr... NaN  NaN  NaN    IG   \n",
       "\n",
       "                      RIN  \n",
       "0                     NaN  \n",
       "1                     NaN  \n",
       "2                     NaN  \n",
       "3                     NaN  \n",
       "4                     NaN  \n",
       "..                    ...  \n",
       "176  spatially_related_to  \n",
       "177           analyzed_by  \n",
       "178            has_branch  \n",
       "179         has_tributary  \n",
       "180        has_ingredient  \n",
       "\n",
       "[181 rows x 10 columns]"
      ]
     },
     "execution_count": 69,
     "metadata": {},
     "output_type": "execute_result"
    }
   ],
   "source": [
    "stypes"
   ]
  },
  {
   "cell_type": "code",
   "execution_count": 71,
   "metadata": {},
   "outputs": [],
   "source": [
    "type2chapter = pd.Series(stypes.STN_RTN.values, index=stypes.UI).to_dict()"
   ]
  },
  {
   "cell_type": "code",
   "execution_count": null,
   "metadata": {},
   "outputs": [],
   "source": []
  },
  {
   "cell_type": "code",
   "execution_count": 46,
   "metadata": {},
   "outputs": [],
   "source": [
    "snet['pair'] = snet[['STY1_TUI', 'STY2_TUI']].apply(lambda x : '{}-{}'.format(x[0],x[1]) if str(x[0])<str(x[1]) else '{}-{}'.format(x[1],x[0]), axis=1)"
   ]
  },
  {
   "cell_type": "code",
   "execution_count": 47,
   "metadata": {},
   "outputs": [],
   "source": [
    "# set(snet[snet['STY1']=='Disease or Syndrome']['RL'])"
   ]
  },
  {
   "cell_type": "code",
   "execution_count": 48,
   "metadata": {},
   "outputs": [],
   "source": [
    "# set(snet[snet['STY2']=='Disease or Syndrome']['RL'])"
   ]
  },
  {
   "cell_type": "code",
   "execution_count": 49,
   "metadata": {},
   "outputs": [],
   "source": [
    "# 'treats'"
   ]
  },
  {
   "cell_type": "code",
   "execution_count": 50,
   "metadata": {},
   "outputs": [],
   "source": [
    "rel_dup = snet.groupby(['pair'])['RL'].agg(nuni='nunique', uni='unique').reset_index()"
   ]
  },
  {
   "cell_type": "code",
   "execution_count": 51,
   "metadata": {},
   "outputs": [],
   "source": [
    "rel_dup['rels'] = rel_dup.uni.apply(lambda x: ', '.join((x)))"
   ]
  },
  {
   "cell_type": "code",
   "execution_count": 52,
   "metadata": {},
   "outputs": [
    {
     "data": {
      "text/html": [
       "<div>\n",
       "<style scoped>\n",
       "    .dataframe tbody tr th:only-of-type {\n",
       "        vertical-align: middle;\n",
       "    }\n",
       "\n",
       "    .dataframe tbody tr th {\n",
       "        vertical-align: top;\n",
       "    }\n",
       "\n",
       "    .dataframe thead th {\n",
       "        text-align: right;\n",
       "    }\n",
       "</style>\n",
       "<table border=\"1\" class=\"dataframe\">\n",
       "  <thead>\n",
       "    <tr style=\"text-align: right;\">\n",
       "      <th></th>\n",
       "      <th>pair</th>\n",
       "      <th>nuni</th>\n",
       "      <th>uni</th>\n",
       "      <th>rels</th>\n",
       "    </tr>\n",
       "  </thead>\n",
       "  <tbody>\n",
       "    <tr>\n",
       "      <th>2305</th>\n",
       "      <td>T061-T184</td>\n",
       "      <td>1</td>\n",
       "      <td>[treats]</td>\n",
       "      <td>treats</td>\n",
       "    </tr>\n",
       "    <tr>\n",
       "      <th>2592</th>\n",
       "      <td>T074-T184</td>\n",
       "      <td>1</td>\n",
       "      <td>[treats]</td>\n",
       "      <td>treats</td>\n",
       "    </tr>\n",
       "    <tr>\n",
       "      <th>3003</th>\n",
       "      <td>T121-T184</td>\n",
       "      <td>1</td>\n",
       "      <td>[treats]</td>\n",
       "      <td>treats</td>\n",
       "    </tr>\n",
       "    <tr>\n",
       "      <th>3239</th>\n",
       "      <td>T184-T195</td>\n",
       "      <td>1</td>\n",
       "      <td>[treats]</td>\n",
       "      <td>treats</td>\n",
       "    </tr>\n",
       "    <tr>\n",
       "      <th>3241</th>\n",
       "      <td>T184-T203</td>\n",
       "      <td>1</td>\n",
       "      <td>[treats]</td>\n",
       "      <td>treats</td>\n",
       "    </tr>\n",
       "  </tbody>\n",
       "</table>\n",
       "</div>"
      ],
      "text/plain": [
       "           pair  nuni       uni    rels\n",
       "2305  T061-T184     1  [treats]  treats\n",
       "2592  T074-T184     1  [treats]  treats\n",
       "3003  T121-T184     1  [treats]  treats\n",
       "3239  T184-T195     1  [treats]  treats\n",
       "3241  T184-T203     1  [treats]  treats"
      ]
     },
     "execution_count": 52,
     "metadata": {},
     "output_type": "execute_result"
    }
   ],
   "source": [
    "rel_dup[rel_dup['rels']=='treats']"
   ]
  },
  {
   "cell_type": "code",
   "execution_count": 53,
   "metadata": {},
   "outputs": [
    {
     "data": {
      "text/html": [
       "<div>\n",
       "<style scoped>\n",
       "    .dataframe tbody tr th:only-of-type {\n",
       "        vertical-align: middle;\n",
       "    }\n",
       "\n",
       "    .dataframe tbody tr th {\n",
       "        vertical-align: top;\n",
       "    }\n",
       "\n",
       "    .dataframe thead th {\n",
       "        text-align: right;\n",
       "    }\n",
       "</style>\n",
       "<table border=\"1\" class=\"dataframe\">\n",
       "  <thead>\n",
       "    <tr style=\"text-align: right;\">\n",
       "      <th></th>\n",
       "      <th>STY1</th>\n",
       "      <th>RL</th>\n",
       "      <th>STY2</th>\n",
       "      <th>STY1_TUI</th>\n",
       "      <th>STY2_TUI</th>\n",
       "      <th>pair</th>\n",
       "    </tr>\n",
       "  </thead>\n",
       "  <tbody>\n",
       "    <tr>\n",
       "      <th>3750</th>\n",
       "      <td>Medical Device</td>\n",
       "      <td>treats</td>\n",
       "      <td>Sign or Symptom</td>\n",
       "      <td>T074</td>\n",
       "      <td>T184</td>\n",
       "      <td>T074-T184</td>\n",
       "    </tr>\n",
       "  </tbody>\n",
       "</table>\n",
       "</div>"
      ],
      "text/plain": [
       "                STY1      RL             STY2 STY1_TUI STY2_TUI       pair\n",
       "3750  Medical Device  treats  Sign or Symptom     T074     T184  T074-T184"
      ]
     },
     "execution_count": 53,
     "metadata": {},
     "output_type": "execute_result"
    }
   ],
   "source": [
    "snet[snet['pair']=='T074-T184']"
   ]
  },
  {
   "cell_type": "code",
   "execution_count": 54,
   "metadata": {},
   "outputs": [],
   "source": [
    "# rel_dup[rel_dup['uni']==['treats']]"
   ]
  },
  {
   "cell_type": "code",
   "execution_count": 55,
   "metadata": {},
   "outputs": [],
   "source": [
    "# set(i[0] for i in (rel_dup[rel_dup['nuni']==1]['uni']))"
   ]
  },
  {
   "cell_type": "code",
   "execution_count": 56,
   "metadata": {},
   "outputs": [],
   "source": [
    "# snet[snet['pair']=='T047-T050']"
   ]
  },
  {
   "cell_type": "markdown",
   "metadata": {},
   "source": [
    "## NOTES:\n",
    "\n",
    "Relations are not totally invertable and a default \"associated_with\" relation is assigned if the relations are not clear.\n",
    "![disease-sign](img/diseas-sign.png)\n",
    "\n",
    "![sign_disease](img/sign_disease.png)\n",
    "\n",
    "![treats-diseases](img/treats-diseases.png)\n",
    "\n",
    "A single relation can be related to multiple different pairs of semtypes, and the same pair of semtypes can have multiple different relations. such as\n",
    "\n",
    "![anti-abnormal](img/anti-abnormal.png)\n",
    "\n",
    "\n",
    "\n",
    "\n",
    "The structure of semantic networks: https://uts.nlm.nih.gov/uts/umls/semantic-network\n",
    "\n",
    "(H) \"isa\" and (R) \"associated_with\" are two main categories. That is why every relation isa \"associated_with\". \n",
    "\n",
    "When the relations can be duplicated, how to assign a relation to an pair of concepts. \n",
    "\n",
    "Some pairs have specific relations, while some have more general relations, even if they are from the same semantic types. such as \"treats\", \"prevents\", \"affects\". \n",
    "\n",
    "a) If keep all relations, need to priorize the assignment of relations, from specific to general. Howeve, there is clear \n",
    "\n",
    "b) If remove all general relations, the assumption will be that all relations should be specfic, which will not hold in all cases. \n",
    "\n",
    "The choice of ralations is also dependent on the concept extraction tool, how general or specific the tool can extract. \n",
    "\n",
    "\"REL\" in \"MRREL\" table is not related to the information in Semantic Networks. \"RIN\" in \"SRDEF\" is Inverse of the Relation (RL) https://www.ncbi.nlm.nih.gov/books/NBK9679/table/ch05.T.srdef/\n",
    "\n",
    "Abbrevations of UMLS: https://www.nlm.nih.gov/research/umls/knowledge_sources/metathesaurus/release/abbreviations.html#mrdoc_RELA"
   ]
  },
  {
   "cell_type": "code",
   "execution_count": 121,
   "metadata": {},
   "outputs": [],
   "source": [
    "# snet = snet[snet['RL']!='isa']"
   ]
  },
  {
   "cell_type": "code",
   "execution_count": 122,
   "metadata": {},
   "outputs": [],
   "source": [
    "# set(snet[snet['pair'].isin(rel_overlap[rel_overlap['nuni']==1]['pair'])]['RL'])"
   ]
  },
  {
   "cell_type": "code",
   "execution_count": 94,
   "metadata": {},
   "outputs": [],
   "source": [
    "# set(snet['RL'])"
   ]
  },
  {
   "cell_type": "code",
   "execution_count": 16,
   "metadata": {},
   "outputs": [],
   "source": [
    "# rset = stypes[stypes['STY_RL'].str.lower().isin(set(snet['RL']))]"
   ]
  },
  {
   "cell_type": "code",
   "execution_count": 17,
   "metadata": {},
   "outputs": [],
   "source": [
    "# rset"
   ]
  },
  {
   "cell_type": "code",
   "execution_count": null,
   "metadata": {},
   "outputs": [],
   "source": []
  },
  {
   "cell_type": "markdown",
   "metadata": {},
   "source": [
    "### The same pair of types can have different relations, how to choose a relevant one"
   ]
  },
  {
   "cell_type": "code",
   "execution_count": 19,
   "metadata": {},
   "outputs": [
    {
     "data": {
      "text/html": [
       "<div>\n",
       "<style scoped>\n",
       "    .dataframe tbody tr th:only-of-type {\n",
       "        vertical-align: middle;\n",
       "    }\n",
       "\n",
       "    .dataframe tbody tr th {\n",
       "        vertical-align: top;\n",
       "    }\n",
       "\n",
       "    .dataframe thead th {\n",
       "        text-align: right;\n",
       "    }\n",
       "</style>\n",
       "<table border=\"1\" class=\"dataframe\">\n",
       "  <thead>\n",
       "    <tr style=\"text-align: right;\">\n",
       "      <th></th>\n",
       "      <th>STY1</th>\n",
       "      <th>RL</th>\n",
       "      <th>STY2</th>\n",
       "      <th>STY1_TUI</th>\n",
       "      <th>STY2_TUI</th>\n",
       "      <th>pair</th>\n",
       "    </tr>\n",
       "  </thead>\n",
       "  <tbody>\n",
       "    <tr>\n",
       "      <th>0</th>\n",
       "      <td>Acquired Abnormality</td>\n",
       "      <td>affects</td>\n",
       "      <td>Amphibian</td>\n",
       "      <td>T020</td>\n",
       "      <td>T011</td>\n",
       "      <td>T011-T020</td>\n",
       "    </tr>\n",
       "    <tr>\n",
       "      <th>1</th>\n",
       "      <td>Acquired Abnormality</td>\n",
       "      <td>affects</td>\n",
       "      <td>Animal</td>\n",
       "      <td>T020</td>\n",
       "      <td>T008</td>\n",
       "      <td>T008-T020</td>\n",
       "    </tr>\n",
       "    <tr>\n",
       "      <th>2</th>\n",
       "      <td>Acquired Abnormality</td>\n",
       "      <td>affects</td>\n",
       "      <td>Archaeon</td>\n",
       "      <td>T020</td>\n",
       "      <td>T194</td>\n",
       "      <td>T020-T194</td>\n",
       "    </tr>\n",
       "    <tr>\n",
       "      <th>3</th>\n",
       "      <td>Acquired Abnormality</td>\n",
       "      <td>affects</td>\n",
       "      <td>Bacterium</td>\n",
       "      <td>T020</td>\n",
       "      <td>T007</td>\n",
       "      <td>T007-T020</td>\n",
       "    </tr>\n",
       "    <tr>\n",
       "      <th>4</th>\n",
       "      <td>Acquired Abnormality</td>\n",
       "      <td>affects</td>\n",
       "      <td>Bird</td>\n",
       "      <td>T020</td>\n",
       "      <td>T012</td>\n",
       "      <td>T012-T020</td>\n",
       "    </tr>\n",
       "  </tbody>\n",
       "</table>\n",
       "</div>"
      ],
      "text/plain": [
       "                   STY1       RL       STY2 STY1_TUI STY2_TUI       pair\n",
       "0  Acquired Abnormality  affects  Amphibian     T020     T011  T011-T020\n",
       "1  Acquired Abnormality  affects     Animal     T020     T008  T008-T020\n",
       "2  Acquired Abnormality  affects   Archaeon     T020     T194  T020-T194\n",
       "3  Acquired Abnormality  affects  Bacterium     T020     T007  T007-T020\n",
       "4  Acquired Abnormality  affects       Bird     T020     T012  T012-T020"
      ]
     },
     "execution_count": 19,
     "metadata": {},
     "output_type": "execute_result"
    }
   ],
   "source": [
    "snet.head()"
   ]
  },
  {
   "cell_type": "code",
   "execution_count": null,
   "metadata": {},
   "outputs": [],
   "source": []
  },
  {
   "cell_type": "code",
   "execution_count": null,
   "metadata": {},
   "outputs": [],
   "source": []
  },
  {
   "cell_type": "code",
   "execution_count": null,
   "metadata": {},
   "outputs": [],
   "source": []
  },
  {
   "cell_type": "code",
   "execution_count": null,
   "metadata": {},
   "outputs": [],
   "source": []
  },
  {
   "cell_type": "markdown",
   "metadata": {},
   "source": [
    "### Some documents are full of metrics and not provide useful language. So focus on discharge summary"
   ]
  },
  {
   "cell_type": "code",
   "execution_count": 91,
   "metadata": {},
   "outputs": [],
   "source": [
    "# notes = pd.read_csv('/users/k1810895/data/KER/data/mimic_notes.csv')"
   ]
  },
  {
   "cell_type": "code",
   "execution_count": 92,
   "metadata": {},
   "outputs": [],
   "source": [
    "# discharg_dids = set(notes[notes['category']=='Discharge summary']['row_id'].tolist())"
   ]
  },
  {
   "cell_type": "code",
   "execution_count": 93,
   "metadata": {},
   "outputs": [],
   "source": [
    "# del notes"
   ]
  },
  {
   "cell_type": "code",
   "execution_count": 94,
   "metadata": {},
   "outputs": [],
   "source": [
    "# len(discharg_dids)"
   ]
  },
  {
   "cell_type": "code",
   "execution_count": 95,
   "metadata": {},
   "outputs": [],
   "source": [
    "discharg_dids = pd.read_csv('data/mimic_discharge_note_ids.csv')"
   ]
  },
  {
   "cell_type": "code",
   "execution_count": null,
   "metadata": {},
   "outputs": [],
   "source": []
  },
  {
   "cell_type": "code",
   "execution_count": 96,
   "metadata": {},
   "outputs": [],
   "source": [
    "discharg_dids = set(discharg_dids['row_id'].tolist())"
   ]
  },
  {
   "cell_type": "code",
   "execution_count": 97,
   "metadata": {},
   "outputs": [
    {
     "data": {
      "text/plain": [
       "59652"
      ]
     },
     "execution_count": 97,
     "metadata": {},
     "output_type": "execute_result"
    }
   ],
   "source": [
    "len(discharg_dids)"
   ]
  },
  {
   "cell_type": "markdown",
   "metadata": {},
   "source": [
    "### Compare Medcat and Scispacy annotation granularity "
   ]
  },
  {
   "cell_type": "code",
   "execution_count": 98,
   "metadata": {},
   "outputs": [],
   "source": [
    "import pickle"
   ]
  },
  {
   "cell_type": "code",
   "execution_count": 99,
   "metadata": {},
   "outputs": [],
   "source": [
    "apath = '/users/k1810895/data/KER/data/scispacy_sentences/'\n",
    "bpath = '/users/k1810895/data/KER/data/medcat_sentence/'"
   ]
  },
  {
   "cell_type": "code",
   "execution_count": 100,
   "metadata": {},
   "outputs": [],
   "source": [
    "def sentence_annots(path):\n",
    "    annot_counts = []\n",
    "    annot_types = []\n",
    "    annot_chapters = []\n",
    "    str_len = []\n",
    "    for index in range(1000):\n",
    "        file_name = 'batch' + str(index) + '.json'\n",
    "\n",
    "        docs = json.load(open(path+file_name, 'r'))\n",
    "\n",
    "        for did in docs.keys():\n",
    "            if int(did) in discharg_dids:\n",
    "#             if True:\n",
    "                sents = docs[did]\n",
    "                for sid in sents.keys():\n",
    "                    sent = sents[sid]\n",
    "                    text = sent['sent_text']\n",
    "                    annots = sent['sent_annots']\n",
    "                    annot_counts.append(len(annots))\n",
    "                    for annot in annots:\n",
    "#                       Choose the first semantic type if multiple types are available\n",
    "                        type_str = annot['types'].split(',')[0]\n",
    "#                         annot_types.append(type_str)\n",
    "                        str_len.append(len(annot['text']))\n",
    "                        cha = len(type2chapter[type_str].split('.'))\n",
    "                        annot_chapters.append(cha)\n",
    "    return annot_counts, annot_chapters, str_len"
   ]
  },
  {
   "cell_type": "code",
   "execution_count": 101,
   "metadata": {},
   "outputs": [],
   "source": [
    "def sentence_annots_medcat(path):\n",
    "    annot_counts = []\n",
    "    annot_types = []\n",
    "    annot_chapters = []\n",
    "    str_len = []\n",
    "    for index in range(1000):\n",
    "        file_name = 'batch' + str(index) + '.json'\n",
    "\n",
    "        docs = json.load(open(path+file_name, 'r'))\n",
    "\n",
    "        for did in docs.keys():\n",
    "            if int(did) in discharg_dids:\n",
    "#             if True:\n",
    "                sents = docs[did]\n",
    "                for sid in sents.keys():\n",
    "                    sent = sents[sid]\n",
    "                    text = sent['sent_text']\n",
    "                    annots = sent['sent_annots']\n",
    "                    annot_counts.append(len(annots))\n",
    "                    for annot in annots:\n",
    "#                       Choose the first semantic type if multiple types are available\n",
    "                        str_len.append(len(annot['text']))\n",
    "                        type_str = annot['tui'].split(',')[0]\n",
    "                        cha = len(type2chapter[type_str].split('.'))\n",
    "                        annot_chapters.append(cha)\n",
    "    return annot_counts, annot_chapters, str_len"
   ]
  },
  {
   "cell_type": "code",
   "execution_count": 102,
   "metadata": {},
   "outputs": [],
   "source": [
    "a_counts, a_chapters, a_str_lens = sentence_annots(apath)"
   ]
  },
  {
   "cell_type": "code",
   "execution_count": null,
   "metadata": {},
   "outputs": [],
   "source": [
    "b_counts, b_chapters, b_str_lens = sentence_annots_medcat(bpath)"
   ]
  },
  {
   "cell_type": "code",
   "execution_count": null,
   "metadata": {},
   "outputs": [],
   "source": [
    "pickle.dump((a_counts, a_chapters, a_str_lens), open('data/scispacy_annots_stat.pick', 'wb'))"
   ]
  },
  {
   "cell_type": "code",
   "execution_count": null,
   "metadata": {},
   "outputs": [],
   "source": [
    "pickle.dump((b_counts, b_chapters, b_str_lens), open('data/medcat_annots_stat.pick', 'wb'))"
   ]
  },
  {
   "cell_type": "markdown",
   "metadata": {},
   "source": [
    "#### Distribution of annotations' chapters"
   ]
  },
  {
   "cell_type": "code",
   "execution_count": null,
   "metadata": {},
   "outputs": [],
   "source": [
    "len(a_chapters)"
   ]
  },
  {
   "cell_type": "code",
   "execution_count": 87,
   "metadata": {},
   "outputs": [
    {
     "ename": "KeyboardInterrupt",
     "evalue": "",
     "output_type": "error",
     "traceback": [
      "\u001b[0;31m---------------------------------------------------------------------------\u001b[0m",
      "\u001b[0;31mKeyboardInterrupt\u001b[0m                         Traceback (most recent call last)",
      "Input \u001b[0;32mIn [87]\u001b[0m, in \u001b[0;36m<cell line: 1>\u001b[0;34m()\u001b[0m\n\u001b[0;32m----> 1\u001b[0m \u001b[43msns\u001b[49m\u001b[38;5;241;43m.\u001b[39;49m\u001b[43mhistplot\u001b[49m\u001b[43m(\u001b[49m\u001b[43ma_chapters\u001b[49m\u001b[43m)\u001b[49m\n\u001b[1;32m      2\u001b[0m \u001b[38;5;66;03m# sns.distplot(b_chapters)\u001b[39;00m\n\u001b[1;32m      3\u001b[0m plt\u001b[38;5;241m.\u001b[39mxlabel(\u001b[38;5;124m\"\u001b[39m\u001b[38;5;124mChapter level of entities\u001b[39m\u001b[38;5;124m\"\u001b[39m)\n",
      "File \u001b[0;32m~/.conda/envs/py39/lib/python3.9/site-packages/seaborn/distributions.py:1430\u001b[0m, in \u001b[0;36mhistplot\u001b[0;34m(data, x, y, hue, weights, stat, bins, binwidth, binrange, discrete, cumulative, common_bins, common_norm, multiple, element, fill, shrink, kde, kde_kws, line_kws, thresh, pthresh, pmax, cbar, cbar_ax, cbar_kws, palette, hue_order, hue_norm, color, log_scale, legend, ax, **kwargs)\u001b[0m\n\u001b[1;32m   1409\u001b[0m \u001b[38;5;28;01mdef\u001b[39;00m \u001b[38;5;21mhistplot\u001b[39m(\n\u001b[1;32m   1410\u001b[0m     data\u001b[38;5;241m=\u001b[39m\u001b[38;5;28;01mNone\u001b[39;00m, \u001b[38;5;241m*\u001b[39m,\n\u001b[1;32m   1411\u001b[0m     \u001b[38;5;66;03m# Vector variables\u001b[39;00m\n\u001b[0;32m   (...)\u001b[0m\n\u001b[1;32m   1427\u001b[0m     \u001b[38;5;241m*\u001b[39m\u001b[38;5;241m*\u001b[39mkwargs,\n\u001b[1;32m   1428\u001b[0m ):\n\u001b[0;32m-> 1430\u001b[0m     p \u001b[38;5;241m=\u001b[39m \u001b[43m_DistributionPlotter\u001b[49m\u001b[43m(\u001b[49m\n\u001b[1;32m   1431\u001b[0m \u001b[43m        \u001b[49m\u001b[43mdata\u001b[49m\u001b[38;5;241;43m=\u001b[39;49m\u001b[43mdata\u001b[49m\u001b[43m,\u001b[49m\n\u001b[1;32m   1432\u001b[0m \u001b[43m        \u001b[49m\u001b[43mvariables\u001b[49m\u001b[38;5;241;43m=\u001b[39;49m\u001b[43m_DistributionPlotter\u001b[49m\u001b[38;5;241;43m.\u001b[39;49m\u001b[43mget_semantics\u001b[49m\u001b[43m(\u001b[49m\u001b[38;5;28;43mlocals\u001b[39;49m\u001b[43m(\u001b[49m\u001b[43m)\u001b[49m\u001b[43m)\u001b[49m\n\u001b[1;32m   1433\u001b[0m \u001b[43m    \u001b[49m\u001b[43m)\u001b[49m\n\u001b[1;32m   1435\u001b[0m     p\u001b[38;5;241m.\u001b[39mmap_hue(palette\u001b[38;5;241m=\u001b[39mpalette, order\u001b[38;5;241m=\u001b[39mhue_order, norm\u001b[38;5;241m=\u001b[39mhue_norm)\n\u001b[1;32m   1437\u001b[0m     \u001b[38;5;28;01mif\u001b[39;00m ax \u001b[38;5;129;01mis\u001b[39;00m \u001b[38;5;28;01mNone\u001b[39;00m:\n",
      "File \u001b[0;32m~/.conda/envs/py39/lib/python3.9/site-packages/seaborn/distributions.py:111\u001b[0m, in \u001b[0;36m_DistributionPlotter.__init__\u001b[0;34m(self, data, variables)\u001b[0m\n\u001b[1;32m    105\u001b[0m \u001b[38;5;28;01mdef\u001b[39;00m \u001b[38;5;21m__init__\u001b[39m(\n\u001b[1;32m    106\u001b[0m     \u001b[38;5;28mself\u001b[39m,\n\u001b[1;32m    107\u001b[0m     data\u001b[38;5;241m=\u001b[39m\u001b[38;5;28;01mNone\u001b[39;00m,\n\u001b[1;32m    108\u001b[0m     variables\u001b[38;5;241m=\u001b[39m{},\n\u001b[1;32m    109\u001b[0m ):\n\u001b[0;32m--> 111\u001b[0m     \u001b[38;5;28;43msuper\u001b[39;49m\u001b[43m(\u001b[49m\u001b[43m)\u001b[49m\u001b[38;5;241;43m.\u001b[39;49m\u001b[38;5;21;43m__init__\u001b[39;49m\u001b[43m(\u001b[49m\u001b[43mdata\u001b[49m\u001b[38;5;241;43m=\u001b[39;49m\u001b[43mdata\u001b[49m\u001b[43m,\u001b[49m\u001b[43m \u001b[49m\u001b[43mvariables\u001b[49m\u001b[38;5;241;43m=\u001b[39;49m\u001b[43mvariables\u001b[49m\u001b[43m)\u001b[49m\n",
      "File \u001b[0;32m~/.conda/envs/py39/lib/python3.9/site-packages/seaborn/_core.py:605\u001b[0m, in \u001b[0;36mVectorPlotter.__init__\u001b[0;34m(self, data, variables)\u001b[0m\n\u001b[1;32m    603\u001b[0m \u001b[38;5;28;01mdef\u001b[39;00m \u001b[38;5;21m__init__\u001b[39m(\u001b[38;5;28mself\u001b[39m, data\u001b[38;5;241m=\u001b[39m\u001b[38;5;28;01mNone\u001b[39;00m, variables\u001b[38;5;241m=\u001b[39m{}):\n\u001b[0;32m--> 605\u001b[0m     \u001b[38;5;28;43mself\u001b[39;49m\u001b[38;5;241;43m.\u001b[39;49m\u001b[43massign_variables\u001b[49m\u001b[43m(\u001b[49m\u001b[43mdata\u001b[49m\u001b[43m,\u001b[49m\u001b[43m \u001b[49m\u001b[43mvariables\u001b[49m\u001b[43m)\u001b[49m\n\u001b[1;32m    607\u001b[0m     \u001b[38;5;28;01mfor\u001b[39;00m var, \u001b[38;5;28mcls\u001b[39m \u001b[38;5;129;01min\u001b[39;00m \u001b[38;5;28mself\u001b[39m\u001b[38;5;241m.\u001b[39m_semantic_mappings\u001b[38;5;241m.\u001b[39mitems():\n\u001b[1;32m    608\u001b[0m \n\u001b[1;32m    609\u001b[0m         \u001b[38;5;66;03m# Create the mapping function\u001b[39;00m\n\u001b[1;32m    610\u001b[0m         map_func \u001b[38;5;241m=\u001b[39m partial(\u001b[38;5;28mcls\u001b[39m\u001b[38;5;241m.\u001b[39mmap, plotter\u001b[38;5;241m=\u001b[39m\u001b[38;5;28mself\u001b[39m)\n",
      "File \u001b[0;32m~/.conda/envs/py39/lib/python3.9/site-packages/seaborn/_core.py:663\u001b[0m, in \u001b[0;36mVectorPlotter.assign_variables\u001b[0;34m(self, data, variables)\u001b[0m\n\u001b[1;32m    661\u001b[0m \u001b[38;5;28;01mif\u001b[39;00m x \u001b[38;5;129;01mis\u001b[39;00m \u001b[38;5;28;01mNone\u001b[39;00m \u001b[38;5;129;01mand\u001b[39;00m y \u001b[38;5;129;01mis\u001b[39;00m \u001b[38;5;28;01mNone\u001b[39;00m:\n\u001b[1;32m    662\u001b[0m     \u001b[38;5;28mself\u001b[39m\u001b[38;5;241m.\u001b[39minput_format \u001b[38;5;241m=\u001b[39m \u001b[38;5;124m\"\u001b[39m\u001b[38;5;124mwide\u001b[39m\u001b[38;5;124m\"\u001b[39m\n\u001b[0;32m--> 663\u001b[0m     plot_data, variables \u001b[38;5;241m=\u001b[39m \u001b[38;5;28;43mself\u001b[39;49m\u001b[38;5;241;43m.\u001b[39;49m\u001b[43m_assign_variables_wideform\u001b[49m\u001b[43m(\u001b[49m\n\u001b[1;32m    664\u001b[0m \u001b[43m        \u001b[49m\u001b[43mdata\u001b[49m\u001b[43m,\u001b[49m\u001b[43m \u001b[49m\u001b[38;5;241;43m*\u001b[39;49m\u001b[38;5;241;43m*\u001b[39;49m\u001b[43mvariables\u001b[49m\u001b[43m,\u001b[49m\n\u001b[1;32m    665\u001b[0m \u001b[43m    \u001b[49m\u001b[43m)\u001b[49m\n\u001b[1;32m    666\u001b[0m \u001b[38;5;28;01melse\u001b[39;00m:\n\u001b[1;32m    667\u001b[0m     \u001b[38;5;28mself\u001b[39m\u001b[38;5;241m.\u001b[39minput_format \u001b[38;5;241m=\u001b[39m \u001b[38;5;124m\"\u001b[39m\u001b[38;5;124mlong\u001b[39m\u001b[38;5;124m\"\u001b[39m\n",
      "File \u001b[0;32m~/.conda/envs/py39/lib/python3.9/site-packages/seaborn/_core.py:722\u001b[0m, in \u001b[0;36mVectorPlotter._assign_variables_wideform\u001b[0;34m(self, data, **kwargs)\u001b[0m\n\u001b[1;32m    720\u001b[0m \u001b[38;5;28;01melse\u001b[39;00m:\n\u001b[1;32m    721\u001b[0m     values \u001b[38;5;241m=\u001b[39m np\u001b[38;5;241m.\u001b[39matleast_1d(np\u001b[38;5;241m.\u001b[39masarray(data, dtype\u001b[38;5;241m=\u001b[39m\u001b[38;5;28mobject\u001b[39m))\n\u001b[0;32m--> 722\u001b[0m flat \u001b[38;5;241m=\u001b[39m \u001b[38;5;129;01mnot\u001b[39;00m \u001b[38;5;28;43many\u001b[39;49m\u001b[43m(\u001b[49m\n\u001b[1;32m    723\u001b[0m \u001b[43m    \u001b[49m\u001b[38;5;28;43misinstance\u001b[39;49m\u001b[43m(\u001b[49m\u001b[43mv\u001b[49m\u001b[43m,\u001b[49m\u001b[43m \u001b[49m\u001b[43mIterable\u001b[49m\u001b[43m)\u001b[49m\u001b[43m \u001b[49m\u001b[38;5;129;43;01mand\u001b[39;49;00m\u001b[43m \u001b[49m\u001b[38;5;129;43;01mnot\u001b[39;49;00m\u001b[43m \u001b[49m\u001b[38;5;28;43misinstance\u001b[39;49m\u001b[43m(\u001b[49m\u001b[43mv\u001b[49m\u001b[43m,\u001b[49m\u001b[43m \u001b[49m\u001b[43m(\u001b[49m\u001b[38;5;28;43mstr\u001b[39;49m\u001b[43m,\u001b[49m\u001b[43m \u001b[49m\u001b[38;5;28;43mbytes\u001b[39;49m\u001b[43m)\u001b[49m\u001b[43m)\u001b[49m\n\u001b[1;32m    724\u001b[0m \u001b[43m    \u001b[49m\u001b[38;5;28;43;01mfor\u001b[39;49;00m\u001b[43m \u001b[49m\u001b[43mv\u001b[49m\u001b[43m \u001b[49m\u001b[38;5;129;43;01min\u001b[39;49;00m\u001b[43m \u001b[49m\u001b[43mvalues\u001b[49m\n\u001b[1;32m    725\u001b[0m \u001b[43m\u001b[49m\u001b[43m)\u001b[49m\n\u001b[1;32m    727\u001b[0m \u001b[38;5;28;01mif\u001b[39;00m empty:\n\u001b[1;32m    728\u001b[0m \n\u001b[1;32m    729\u001b[0m     \u001b[38;5;66;03m# Make an object with the structure of plot_data, but empty\u001b[39;00m\n\u001b[1;32m    730\u001b[0m     plot_data \u001b[38;5;241m=\u001b[39m pd\u001b[38;5;241m.\u001b[39mDataFrame()\n",
      "File \u001b[0;32m~/.conda/envs/py39/lib/python3.9/site-packages/seaborn/_core.py:723\u001b[0m, in \u001b[0;36m<genexpr>\u001b[0;34m(.0)\u001b[0m\n\u001b[1;32m    720\u001b[0m \u001b[38;5;28;01melse\u001b[39;00m:\n\u001b[1;32m    721\u001b[0m     values \u001b[38;5;241m=\u001b[39m np\u001b[38;5;241m.\u001b[39matleast_1d(np\u001b[38;5;241m.\u001b[39masarray(data, dtype\u001b[38;5;241m=\u001b[39m\u001b[38;5;28mobject\u001b[39m))\n\u001b[1;32m    722\u001b[0m flat \u001b[38;5;241m=\u001b[39m \u001b[38;5;129;01mnot\u001b[39;00m \u001b[38;5;28many\u001b[39m(\n\u001b[0;32m--> 723\u001b[0m     \u001b[38;5;28misinstance\u001b[39m(v, Iterable) \u001b[38;5;129;01mand\u001b[39;00m \u001b[38;5;129;01mnot\u001b[39;00m \u001b[38;5;28misinstance\u001b[39m(v, (\u001b[38;5;28mstr\u001b[39m, \u001b[38;5;28mbytes\u001b[39m))\n\u001b[1;32m    724\u001b[0m     \u001b[38;5;28;01mfor\u001b[39;00m v \u001b[38;5;129;01min\u001b[39;00m values\n\u001b[1;32m    725\u001b[0m )\n\u001b[1;32m    727\u001b[0m \u001b[38;5;28;01mif\u001b[39;00m empty:\n\u001b[1;32m    728\u001b[0m \n\u001b[1;32m    729\u001b[0m     \u001b[38;5;66;03m# Make an object with the structure of plot_data, but empty\u001b[39;00m\n\u001b[1;32m    730\u001b[0m     plot_data \u001b[38;5;241m=\u001b[39m pd\u001b[38;5;241m.\u001b[39mDataFrame()\n",
      "\u001b[0;31mKeyboardInterrupt\u001b[0m: "
     ]
    }
   ],
   "source": [
    "sns.histplot(a_chapters)\n",
    "# sns.distplot(b_chapters)\n",
    "plt.xlabel(\"Chapter level of entities\")\n",
    "plt.ylabel(\"PDF (entities)\")\n",
    "# plt.title(\"Scispacy on MIMIC\")\n",
    "plt.show()"
   ]
  },
  {
   "cell_type": "code",
   "execution_count": null,
   "metadata": {},
   "outputs": [],
   "source": [
    "c = Counter(a_chapters)\n",
    "c2 = Counter(b_chapters)\n",
    "for i in range(1, 8):\n",
    "    print(i, c[i], c[i]/len(a_chapters))\n",
    "    print(i, c2[i], c2[i]/len(b_chapters))"
   ]
  },
  {
   "cell_type": "markdown",
   "metadata": {},
   "source": [
    "#### Scispacy produces more fine grained concepts than Medcat"
   ]
  },
  {
   "cell_type": "code",
   "execution_count": 55,
   "metadata": {},
   "outputs": [
    {
     "data": {
      "image/png": "[encoded data removed]",
      "text/plain": [
       "<Figure size 432x288 with 1 Axes>"
      ]
     },
     "metadata": {
      "needs_background": "light"
     },
     "output_type": "display_data"
    }
   ],
   "source": [
    "sns.distplot(a_counts)\n",
    "plt.xlabel(\"Number of entities in a single sentence\")\n",
    "plt.ylabel(\"PDF (sentences)\")\n",
    "plt.title(\"Scispacy on MIMIC\")\n",
    "plt.show()"
   ]
  },
  {
   "cell_type": "code",
   "execution_count": 33,
   "metadata": {},
   "outputs": [
    {
     "data": {
      "text/plain": [
       "DescribeResult(nobs=5322252, minmax=(1, 315), mean=4.169672537113988, variance=23.177535766743144, skewness=7.137712520076788, kurtosis=101.30446871524101)"
      ]
     },
     "execution_count": 33,
     "metadata": {},
     "output_type": "execute_result"
    }
   ],
   "source": [
    "stats.describe(a_counts)"
   ]
  },
  {
   "cell_type": "code",
   "execution_count": 56,
   "metadata": {},
   "outputs": [
    {
     "data": {
      "image/png": "[encoded data removed]",
      "text/plain": [
       "<Figure size 432x288 with 1 Axes>"
      ]
     },
     "metadata": {
      "needs_background": "light"
     },
     "output_type": "display_data"
    }
   ],
   "source": [
    "sns.distplot(b_counts)\n",
    "plt.xlabel(\"Number of entities in a single sentence\")\n",
    "plt.ylabel(\"PDF (sentences)\")\n",
    "plt.title(\"Medcat on MIMIC\")\n",
    "plt.show()"
   ]
  },
  {
   "cell_type": "code",
   "execution_count": 35,
   "metadata": {},
   "outputs": [
    {
     "data": {
      "text/plain": [
       "DescribeResult(nobs=8754186, minmax=(1, 160), mean=3.5541650588644105, variance=11.60929167019811, skewness=4.334075299061011, kurtosis=44.70064103162898)"
      ]
     },
     "execution_count": 35,
     "metadata": {},
     "output_type": "execute_result"
    }
   ],
   "source": [
    "stats.describe(b_counts)"
   ]
  },
  {
   "cell_type": "markdown",
   "metadata": {},
   "source": [
    "#### Scispacy produces a larger number of annotations than Medcat. A possible reason is that Medcat use the longest string match in choosing concept candidates"
   ]
  },
  {
   "cell_type": "markdown",
   "metadata": {},
   "source": [
    "Some sentences contain too many concepts. Following Mintz's paper, only focus on setences contaning two entities in training data but consider all pairs of entities in test data. The training data will tend to be short sentences. However, the concepts are too details and the RELA are too specific; Use semantic types and semantic relations instead."
   ]
  },
  {
   "cell_type": "markdown",
   "metadata": {},
   "source": [
    "### Scispacy does not allow to choose a subset of voc. "
   ]
  },
  {
   "cell_type": "code",
   "execution_count": null,
   "metadata": {},
   "outputs": [],
   "source": []
  },
  {
   "cell_type": "code",
   "execution_count": 46,
   "metadata": {},
   "outputs": [],
   "source": [
    "def screen_sentences(path, output_file):\n",
    "    with open(output_file, 'w') as fw:\n",
    "        for index in range(1000):\n",
    "            file_name = 'batch' + str(index) + '.json'\n",
    "\n",
    "            docs = json.load(open(path+file_name, 'r'))\n",
    "\n",
    "            for did in docs.keys():\n",
    "#           Only for discharge summary since the quality of the content is relatively higher\n",
    "                if int(did) in discharg_dids:\n",
    "#                 if True:\n",
    "                    sents = docs[did]\n",
    "                    for sid in sents.keys():\n",
    "                        sent = sents[sid]\n",
    "                        text = sent['sent_text']\n",
    "                        annots = sent['sent_annots']\n",
    "                        # If include all sentence with any number of annotations. it ends with a super large file\n",
    "                        # Select centain types of annotations to focus.  \n",
    "                        if True:\n",
    "#                         if len(annots) == 2:\n",
    "                            for ai, aj in combinations(annots, 2):\n",
    "#                                 ai_cui, aj_cui = ai['cui'], aj['cui']\n",
    "                                ai_cui, aj_cui = ai['types'].split(',')[0], aj['types'].split(',')[0]\n",
    "                                es = {}\n",
    "                                ei = {\"id\": ai_cui, \"name\": ai['text'], \"pos\": [ai['start_char'], ai['end_char']]}\n",
    "                                ej = {\"id\": aj_cui, \"name\": aj['text'], \"pos\": [aj['start_char'], aj['end_char']]}\n",
    "\n",
    "                                min_cui, max_cui = ai_cui, aj_cui\n",
    "                                es[min_cui] = ei\n",
    "                                es[max_cui] = ej\n",
    "                                if ai_cui > aj_cui:\n",
    "                                    min_cui, max_cui = aj_cui, ai_cui\n",
    "                                    es[min_cui] = ej\n",
    "                                    es[max_cui] = ei\n",
    "\n",
    "                                cui_key = min_cui + '-' + max_cui\n",
    "        #                                 rel = 'NA'\n",
    "        #                                 dire = 'Y'\n",
    "        # Too many combination of entity pairs in a sentence. So two many NA negative samples \n",
    "        # Also, a sentence can have multiple instances, which \n",
    "                                if cui_key in rels:\n",
    "                                    rel = rels[cui_key]['rela']\n",
    "                                    dire = rels[cui_key]['dir']\n",
    "                                    if dire == 'Y':\n",
    "                                        head, tail = es[min_cui], es[max_cui]\n",
    "                                    else:\n",
    "                                        tail, head = es[min_cui], es[max_cui]\n",
    "                                    fw.write(str({'text': text, 'relation': rel, 'h': head, 't': tail}) + '\\n')\n"
   ]
  },
  {
   "cell_type": "code",
   "execution_count": null,
   "metadata": {},
   "outputs": [],
   "source": []
  },
  {
   "cell_type": "code",
   "execution_count": null,
   "metadata": {},
   "outputs": [],
   "source": []
  },
  {
   "cell_type": "code",
   "execution_count": null,
   "metadata": {},
   "outputs": [],
   "source": []
  },
  {
   "cell_type": "code",
   "execution_count": 48,
   "metadata": {},
   "outputs": [],
   "source": [
    "screen_sentences(apath, '/users/k1810895/data/KER/data/scispacy_sentences.txt')"
   ]
  },
  {
   "cell_type": "code",
   "execution_count": 49,
   "metadata": {},
   "outputs": [],
   "source": [
    "screen_sentences(bpath, '/users/k1810895/data/KER/data/medcat_sentences.txt')"
   ]
  },
  {
   "cell_type": "markdown",
   "metadata": {},
   "source": [
    "#### There are 59345 relevant positive sentences from scispacy annotations. and 129748 relevant positive sentences from medcat annotations. "
   ]
  },
  {
   "cell_type": "code",
   "execution_count": null,
   "metadata": {},
   "outputs": [],
   "source": []
  },
  {
   "cell_type": "markdown",
   "metadata": {},
   "source": [
    "The formatt {\"text\": \"Directed by Andrei Zagdansky Not rated ; 72 minutes In the documentary '' Orange Winter '' orange blooms throughout Kiev , Ukraine , the epicenter of dissent over that country 's stolen 2004 presidential elections .\", \"relation\": \"/location/country/capital\", \"h\": {\"id\": \"m.07t21\", \"name\": \"Ukraine\", \"pos\": [123, 130]}, \"t\": {\"id\": \"m.02sn34\", \"name\": \"Kiev\", \"pos\": [116, 120]}}"
   ]
  },
  {
   "cell_type": "code",
   "execution_count": null,
   "metadata": {},
   "outputs": [],
   "source": []
  },
  {
   "cell_type": "markdown",
   "metadata": {},
   "source": [
    "## Negation relations"
   ]
  },
  {
   "cell_type": "markdown",
   "metadata": {},
   "source": [
    "Rule-based method: https://github.com/lhncbc/SemRep \n"
   ]
  },
  {
   "cell_type": "code",
   "execution_count": null,
   "metadata": {},
   "outputs": [],
   "source": [
    "\n",
    "\n",
    "A treats B \n",
    "^        ^ \n",
    "|        | \n",
    "c        d"
   ]
  }
 ],
 "metadata": {
  "kernelspec": {
   "display_name": "Python 3 (ipykernel)",
   "language": "python",
   "name": "python3"
  },
  "language_info": {
   "codemirror_mode": {
    "name": "ipython",
    "version": 3
   },
   "file_extension": ".py",
   "mimetype": "text/x-python",
   "name": "python",
   "nbconvert_exporter": "python",
   "pygments_lexer": "ipython3",
   "version": "3.9.12"
  }
 },
 "nbformat": 4,
 "nbformat_minor": 4
}
