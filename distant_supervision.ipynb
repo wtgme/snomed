{
 "cells": [
  {
   "cell_type": "code",
   "execution_count": null,
   "metadata": {},
   "outputs": [],
   "source": [
    "# !pip uninstall scispacy "
   ]
  },
  {
   "cell_type": "code",
   "execution_count": null,
   "metadata": {},
   "outputs": [],
   "source": [
    "import scispacy\n",
    "import spacy\n",
    "import pandas as pd\n",
    "import sys\n",
    "from datetime import datetime "
   ]
  },
  {
   "cell_type": "code",
   "execution_count": 3,
   "metadata": {},
   "outputs": [],
   "source": [
    "nlp = spacy.load(\"en_core_sci_scibert\")"
   ]
  },
  {
   "cell_type": "code",
   "execution_count": null,
   "metadata": {},
   "outputs": [],
   "source": [
    "# notes = pd.read_csv(\"/users/k1810895/data/KER/data/mimic_notes.csv\")"
   ]
  },
  {
   "cell_type": "code",
   "execution_count": null,
   "metadata": {},
   "outputs": [],
   "source": [
    "# text = '''This is a 55 y/o M, with H/O Hep C ( presumed from blood transfusions\n",
    "#    s/p 3 rd degree burns in an industrial accident in [**2111**]), with known\n",
    "#    h/o varices who presented on [**3-26**]^th [**2144**] , with abdominal\n",
    "#    distension,jaundice & found to have spontaneous bacterial peritonitis,\n",
    "#    was admitted to [**Hospital Ward Name 383**] 10.\n",
    "#    Change in mentation noted throughout the day, missed his lactulose dose\n",
    "#    [**12-21**] to altered mental status unable to drink safely with risk of\n",
    "#    aspiration, creatinine found to be 8.0 ( Baseline 0.8), BUN in 100\n",
    "#    HD catheter with VIPort inserted & transferred to MICU 6 for further\n",
    "#    management.\n",
    "#    Events :\n",
    "#    Patient dialyzed from [**2165**] hrs to 2230 hrs with only 500 mls fluid\n",
    "#    removal [**12-21**] to Low BP during dialysis.\n",
    "#    IV Albumin 100 grams given as per orders.\n",
    "#    NGT inserted , had minimal bleeding during insertion. (INR 3.7 in am\n",
    "#    lab- had received 4 units of FFP from [**Wardname **]). Had coffee ground NG\n",
    "#    aspirate , connected to low intermittent suction until cleared. Due\n",
    "#    dose of Lactulose given.\n",
    "#    Hepatorenal syndrome\n",
    "#    Assessment:\n",
    "#    Patient is Anuric since am of [**2145-4-1**] as per report received from [**Hospital Ward Name 383**]\n",
    "#    10. Labs drawb prior to Hemodialysis, Please see metavision for lab\n",
    "#    values.\n",
    "#    Action:\n",
    "#    Patient had Hemodialysis done for 2 hours with 500 mls fluid removal\n",
    "#    for the first time.\n",
    "#    Response:\n",
    "#    Renal function continues to be deranged in am labs, continues to be\n",
    "#    anuric.\n",
    "#    Plan:\n",
    "#    Continue monitoring labs, To follow up on next HD\n",
    "#    Electrolyte & fluid disorder, other\n",
    "#    Assessment:\n",
    "#    Action:\n",
    "#    Response:\n",
    "#    Plan:\n",
    "#    Altered mental status (not Delirium)\n",
    "#    Assessment:\n",
    "#    Action:\n",
    "#    Response:\n",
    "#    Plan:\n",
    "#    Hematemesis (upper GI bleed, UGIB)\n",
    "#    Assessment:\n",
    "#    Action:\n",
    "#    Response:\n",
    "#    Plan:\n",
    "#    Bradycardia\n",
    "#    Assessment:\n",
    "#    Action:\n",
    "#    Response:\n",
    "#    Plan:\n",
    "#    Hypotension (not Shock)\n",
    "#    Assessment:\n",
    "#    Action:\n",
    "#    Response:\n",
    "#    Plan:\n",
    "# '''\n",
    "# tokens = nlp(text)\n",
    "\n",
    "# for sent in tokens.sents:\n",
    "#     print(sent.text, sent.start_char, sent.end_char, sent.start, sent.end)"
   ]
  },
  {
   "cell_type": "markdown",
   "metadata": {},
   "source": [
    "#### The formatt {\"text\": \"Directed by Andrei Zagdansky Not rated ; 72 minutes In the documentary '' Orange Winter '' orange blooms throughout Kiev , Ukraine , the epicenter of dissent over that country 's stolen 2004 presidential elections .\", \"relation\": \"/location/country/capital\", \"h\": {\"id\": \"m.07t21\", \"name\": \"Ukraine\", \"pos\": [123, 130]}, \"t\": {\"id\": \"m.02sn34\", \"name\": \"Kiev\", \"pos\": [116, 120]}}"
   ]
  },
  {
   "cell_type": "markdown",
   "metadata": {},
   "source": [
    "## Identify concepts from sentences"
   ]
  },
  {
   "cell_type": "markdown",
   "metadata": {},
   "source": [
    "All text are annoated with UMLS CUIs. Go through each sentence and find CUIs in each sentence. If a pair of CUIs have a relation defined in UMLS, label it as a positive sample.\n",
    "\n",
    "Cannot go through local json outputs, since json files with the same ids may not contain the same set of documents. Need to load all the data to search, which is too big. \n",
    "\n",
    "Medcat does not provide sentence split cutoff in the results. So cannot get sentence infor in annotations. Scispacy provides such information. \n",
    "\n",
    "So:\n",
    "1. Use sentence_seg.sh split documents into sentences. \n",
    "2. All annotations have been ingested to ES, which allows query, on openstack. \n",
    "3. Go through each sentences resulted from sentence_seg.sh and collect all annotations in the same sentence. \n",
    "4. Obtain positive and negative samples from openstack instead of hpc. "
   ]
  },
  {
   "cell_type": "code",
   "execution_count": null,
   "metadata": {},
   "outputs": [],
   "source": []
  },
  {
   "cell_type": "code",
   "execution_count": null,
   "metadata": {},
   "outputs": [],
   "source": []
  },
  {
   "cell_type": "code",
   "execution_count": null,
   "metadata": {},
   "outputs": [],
   "source": []
  },
  {
   "cell_type": "markdown",
   "metadata": {},
   "source": [
    "## Enumerate all combinations of entity pairs in sentences"
   ]
  },
  {
   "cell_type": "code",
   "execution_count": null,
   "metadata": {},
   "outputs": [],
   "source": []
  },
  {
   "cell_type": "code",
   "execution_count": null,
   "metadata": {},
   "outputs": [],
   "source": []
  },
  {
   "cell_type": "code",
   "execution_count": null,
   "metadata": {},
   "outputs": [],
   "source": []
  },
  {
   "cell_type": "code",
   "execution_count": null,
   "metadata": {},
   "outputs": [],
   "source": []
  },
  {
   "cell_type": "code",
   "execution_count": null,
   "metadata": {},
   "outputs": [],
   "source": []
  },
  {
   "cell_type": "code",
   "execution_count": null,
   "metadata": {},
   "outputs": [],
   "source": []
  }
 ],
 "metadata": {
  "kernelspec": {
   "display_name": "py3",
   "language": "python",
   "name": "py3"
  },
  "language_info": {
   "codemirror_mode": {
    "name": "ipython",
    "version": 3
   },
   "file_extension": ".py",
   "mimetype": "text/x-python",
   "name": "python",
   "nbconvert_exporter": "python",
   "pygments_lexer": "ipython3",
   "version": "3.7.6"
  }
 },
 "nbformat": 4,
 "nbformat_minor": 4
}
